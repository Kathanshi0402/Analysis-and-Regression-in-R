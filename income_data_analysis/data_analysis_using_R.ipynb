{
 "cells": [
  {
   "cell_type": "markdown",
   "id": "da5fe79f",
   "metadata": {},
   "source": [
    "## Loading Data:"
   ]
  },
  {
   "cell_type": "code",
   "execution_count": 1,
   "id": "49c733db",
   "metadata": {},
   "outputs": [],
   "source": [
    "df = read.csv(\"toy_dataset.csv\")"
   ]
  },
  {
   "cell_type": "markdown",
   "id": "005f9afe",
   "metadata": {},
   "source": [
    "## Gist of dataset: "
   ]
  },
  {
   "cell_type": "code",
   "execution_count": 2,
   "id": "7e85abb6",
   "metadata": {},
   "outputs": [
    {
     "data": {
      "text/html": [
       "<table>\n",
       "<thead><tr><th scope=col>Number</th><th scope=col>Gender</th><th scope=col>Age</th><th scope=col>Income</th></tr></thead>\n",
       "<tbody>\n",
       "\t<tr><td>1     </td><td>Male  </td><td>41    </td><td>40367 </td></tr>\n",
       "\t<tr><td>2     </td><td>Male  </td><td>54    </td><td>45084 </td></tr>\n",
       "\t<tr><td>3     </td><td>Male  </td><td>42    </td><td>52483 </td></tr>\n",
       "\t<tr><td>4     </td><td>Male  </td><td>40    </td><td>40941 </td></tr>\n",
       "\t<tr><td>5     </td><td>Male  </td><td>46    </td><td>50289 </td></tr>\n",
       "\t<tr><td>6     </td><td>Female</td><td>36    </td><td>50786 </td></tr>\n",
       "</tbody>\n",
       "</table>\n"
      ],
      "text/latex": [
       "\\begin{tabular}{r|llll}\n",
       " Number & Gender & Age & Income\\\\\n",
       "\\hline\n",
       "\t 1      & Male   & 41     & 40367 \\\\\n",
       "\t 2      & Male   & 54     & 45084 \\\\\n",
       "\t 3      & Male   & 42     & 52483 \\\\\n",
       "\t 4      & Male   & 40     & 40941 \\\\\n",
       "\t 5      & Male   & 46     & 50289 \\\\\n",
       "\t 6      & Female & 36     & 50786 \\\\\n",
       "\\end{tabular}\n"
      ],
      "text/markdown": [
       "\n",
       "| Number | Gender | Age | Income |\n",
       "|---|---|---|---|\n",
       "| 1      | Male   | 41     | 40367  |\n",
       "| 2      | Male   | 54     | 45084  |\n",
       "| 3      | Male   | 42     | 52483  |\n",
       "| 4      | Male   | 40     | 40941  |\n",
       "| 5      | Male   | 46     | 50289  |\n",
       "| 6      | Female | 36     | 50786  |\n",
       "\n"
      ],
      "text/plain": [
       "  Number Gender Age Income\n",
       "1 1      Male   41  40367 \n",
       "2 2      Male   54  45084 \n",
       "3 3      Male   42  52483 \n",
       "4 4      Male   40  40941 \n",
       "5 5      Male   46  50289 \n",
       "6 6      Female 36  50786 "
      ]
     },
     "metadata": {},
     "output_type": "display_data"
    }
   ],
   "source": [
    "head(df)"
   ]
  },
  {
   "cell_type": "markdown",
   "id": "ec533ac1",
   "metadata": {},
   "source": [
    "## Summary:"
   ]
  },
  {
   "cell_type": "code",
   "execution_count": 3,
   "id": "a145f307",
   "metadata": {},
   "outputs": [
    {
     "data": {
      "text/plain": [
       "     Number          Gender           Age            Income      \n",
       " Min.   :     1   Female:66200   Min.   :25.00   Min.   :  -654  \n",
       " 1st Qu.: 37501   Male  :83800   1st Qu.:35.00   1st Qu.: 80868  \n",
       " Median : 75001                  Median :45.00   Median : 93655  \n",
       " Mean   : 75001                  Mean   :44.95   Mean   : 91253  \n",
       " 3rd Qu.:112500                  3rd Qu.:55.00   3rd Qu.:104519  \n",
       " Max.   :150000                  Max.   :65.00   Max.   :177157  "
      ]
     },
     "metadata": {},
     "output_type": "display_data"
    },
    {
     "data": {
      "text/html": [
       "0"
      ],
      "text/latex": [
       "0"
      ],
      "text/markdown": [
       "0"
      ],
      "text/plain": [
       "[1] 0"
      ]
     },
     "metadata": {},
     "output_type": "display_data"
    },
    {
     "data": {
      "text/html": [
       "150000"
      ],
      "text/latex": [
       "150000"
      ],
      "text/markdown": [
       "150000"
      ],
      "text/plain": [
       "[1] 150000"
      ]
     },
     "metadata": {},
     "output_type": "display_data"
    },
    {
     "data": {
      "text/html": [
       "4"
      ],
      "text/latex": [
       "4"
      ],
      "text/markdown": [
       "4"
      ],
      "text/plain": [
       "[1] 4"
      ]
     },
     "metadata": {},
     "output_type": "display_data"
    }
   ],
   "source": [
    "summary(df)\n",
    "\n",
    "sum(is.na(df)) #Checking NULL Values\n",
    "nrow(df)   #Calculating total number of observations\n",
    "ncol(df)   #Calculating total number of attributes"
   ]
  },
  {
   "cell_type": "markdown",
   "id": "c59fcab0",
   "metadata": {},
   "source": [
    "## Data Analysis:"
   ]
  },
  {
   "cell_type": "markdown",
   "id": "a06b4110",
   "metadata": {},
   "source": [
    "### Age and Gender Count:"
   ]
  },
  {
   "cell_type": "code",
   "execution_count": 4,
   "id": "24346018",
   "metadata": {},
   "outputs": [
    {
     "data": {
      "text/plain": [
       "\n",
       "  25   26   27   28   29   30   31   32   33   34   35   36   37   38   39   40 \n",
       "1868 3918 3790 3798 3805 3731 3749 3759 3769 3710 3658 3780 3771 3734 3675 3740 \n",
       "  41   42   43   44   45   46   47   48   49   50   51   52   53   54   55   56 \n",
       "3862 3760 3862 3782 3670 3707 3773 3743 3762 3692 3729 3753 3724 3838 3687 3602 \n",
       "  57   58   59   60   61   62   63   64   65 \n",
       "3732 3762 3775 3582 3737 3684 3784 3879 1864 "
      ]
     },
     "metadata": {},
     "output_type": "display_data"
    },
    {
     "data": {
      "text/plain": [
       "\n",
       "Female   Male \n",
       " 66200  83800 "
      ]
     },
     "metadata": {},
     "output_type": "display_data"
    }
   ],
   "source": [
    "count_age <- table(df$Age)\n",
    "count_age\n",
    "count_gender <- table(df$Gender)\n",
    "count_gender"
   ]
  },
  {
   "cell_type": "markdown",
   "id": "5884bcfe",
   "metadata": {},
   "source": [
    "### Calculating overall Mean Income:"
   ]
  },
  {
   "cell_type": "code",
   "execution_count": 5,
   "id": "549415ef",
   "metadata": {},
   "outputs": [
    {
     "data": {
      "text/html": [
       "91252.7982733333"
      ],
      "text/latex": [
       "91252.7982733333"
      ],
      "text/markdown": [
       "91252.7982733333"
      ],
      "text/plain": [
       "[1] 91252.8"
      ]
     },
     "metadata": {},
     "output_type": "display_data"
    }
   ],
   "source": [
    "mean <- mean(df$Income)\n",
    "mean"
   ]
  },
  {
   "cell_type": "markdown",
   "id": "d5808e9c",
   "metadata": {},
   "source": [
    "### Calculating Mean Income according to the Age:"
   ]
  },
  {
   "cell_type": "code",
   "execution_count": 6,
   "id": "9f24c364",
   "metadata": {},
   "outputs": [
    {
     "data": {
      "text/html": [
       "<table>\n",
       "<thead><tr><th scope=col>Age</th><th scope=col>Mean_Income</th></tr></thead>\n",
       "<tbody>\n",
       "\t<tr><td>25      </td><td>91164.57</td></tr>\n",
       "\t<tr><td>26      </td><td>90883.18</td></tr>\n",
       "\t<tr><td>27      </td><td>91554.38</td></tr>\n",
       "\t<tr><td>28      </td><td>91829.50</td></tr>\n",
       "\t<tr><td>29      </td><td>90913.65</td></tr>\n",
       "\t<tr><td>30      </td><td>90957.50</td></tr>\n",
       "\t<tr><td>31      </td><td>91652.70</td></tr>\n",
       "\t<tr><td>32      </td><td>91318.67</td></tr>\n",
       "\t<tr><td>33      </td><td>91825.69</td></tr>\n",
       "\t<tr><td>34      </td><td>91266.26</td></tr>\n",
       "\t<tr><td>35      </td><td>91465.11</td></tr>\n",
       "\t<tr><td>36      </td><td>91192.68</td></tr>\n",
       "\t<tr><td>37      </td><td>91724.96</td></tr>\n",
       "\t<tr><td>38      </td><td>90827.78</td></tr>\n",
       "\t<tr><td>39      </td><td>91243.82</td></tr>\n",
       "\t<tr><td>40      </td><td>91431.08</td></tr>\n",
       "\t<tr><td>41      </td><td>90481.77</td></tr>\n",
       "\t<tr><td>42      </td><td>90897.55</td></tr>\n",
       "\t<tr><td>43      </td><td>90791.18</td></tr>\n",
       "\t<tr><td>44      </td><td>91244.34</td></tr>\n",
       "\t<tr><td>45      </td><td>91403.92</td></tr>\n",
       "\t<tr><td>46      </td><td>91672.58</td></tr>\n",
       "\t<tr><td>47      </td><td>91166.40</td></tr>\n",
       "\t<tr><td>48      </td><td>91392.80</td></tr>\n",
       "\t<tr><td>49      </td><td>90894.22</td></tr>\n",
       "\t<tr><td>50      </td><td>91768.77</td></tr>\n",
       "\t<tr><td>51      </td><td>90922.68</td></tr>\n",
       "\t<tr><td>52      </td><td>91341.80</td></tr>\n",
       "\t<tr><td>53      </td><td>91899.09</td></tr>\n",
       "\t<tr><td>54      </td><td>91892.17</td></tr>\n",
       "\t<tr><td>55      </td><td>91102.05</td></tr>\n",
       "\t<tr><td>56      </td><td>91143.79</td></tr>\n",
       "\t<tr><td>57      </td><td>91041.44</td></tr>\n",
       "\t<tr><td>58      </td><td>91035.45</td></tr>\n",
       "\t<tr><td>59      </td><td>90678.51</td></tr>\n",
       "\t<tr><td>60      </td><td>90657.31</td></tr>\n",
       "\t<tr><td>61      </td><td>91111.54</td></tr>\n",
       "\t<tr><td>62      </td><td>91940.22</td></tr>\n",
       "\t<tr><td>63      </td><td>90901.48</td></tr>\n",
       "\t<tr><td>64      </td><td>91731.44</td></tr>\n",
       "\t<tr><td>65      </td><td>90696.43</td></tr>\n",
       "</tbody>\n",
       "</table>\n"
      ],
      "text/latex": [
       "\\begin{tabular}{r|ll}\n",
       " Age & Mean\\_Income\\\\\n",
       "\\hline\n",
       "\t 25       & 91164.57\\\\\n",
       "\t 26       & 90883.18\\\\\n",
       "\t 27       & 91554.38\\\\\n",
       "\t 28       & 91829.50\\\\\n",
       "\t 29       & 90913.65\\\\\n",
       "\t 30       & 90957.50\\\\\n",
       "\t 31       & 91652.70\\\\\n",
       "\t 32       & 91318.67\\\\\n",
       "\t 33       & 91825.69\\\\\n",
       "\t 34       & 91266.26\\\\\n",
       "\t 35       & 91465.11\\\\\n",
       "\t 36       & 91192.68\\\\\n",
       "\t 37       & 91724.96\\\\\n",
       "\t 38       & 90827.78\\\\\n",
       "\t 39       & 91243.82\\\\\n",
       "\t 40       & 91431.08\\\\\n",
       "\t 41       & 90481.77\\\\\n",
       "\t 42       & 90897.55\\\\\n",
       "\t 43       & 90791.18\\\\\n",
       "\t 44       & 91244.34\\\\\n",
       "\t 45       & 91403.92\\\\\n",
       "\t 46       & 91672.58\\\\\n",
       "\t 47       & 91166.40\\\\\n",
       "\t 48       & 91392.80\\\\\n",
       "\t 49       & 90894.22\\\\\n",
       "\t 50       & 91768.77\\\\\n",
       "\t 51       & 90922.68\\\\\n",
       "\t 52       & 91341.80\\\\\n",
       "\t 53       & 91899.09\\\\\n",
       "\t 54       & 91892.17\\\\\n",
       "\t 55       & 91102.05\\\\\n",
       "\t 56       & 91143.79\\\\\n",
       "\t 57       & 91041.44\\\\\n",
       "\t 58       & 91035.45\\\\\n",
       "\t 59       & 90678.51\\\\\n",
       "\t 60       & 90657.31\\\\\n",
       "\t 61       & 91111.54\\\\\n",
       "\t 62       & 91940.22\\\\\n",
       "\t 63       & 90901.48\\\\\n",
       "\t 64       & 91731.44\\\\\n",
       "\t 65       & 90696.43\\\\\n",
       "\\end{tabular}\n"
      ],
      "text/markdown": [
       "\n",
       "| Age | Mean_Income |\n",
       "|---|---|\n",
       "| 25       | 91164.57 |\n",
       "| 26       | 90883.18 |\n",
       "| 27       | 91554.38 |\n",
       "| 28       | 91829.50 |\n",
       "| 29       | 90913.65 |\n",
       "| 30       | 90957.50 |\n",
       "| 31       | 91652.70 |\n",
       "| 32       | 91318.67 |\n",
       "| 33       | 91825.69 |\n",
       "| 34       | 91266.26 |\n",
       "| 35       | 91465.11 |\n",
       "| 36       | 91192.68 |\n",
       "| 37       | 91724.96 |\n",
       "| 38       | 90827.78 |\n",
       "| 39       | 91243.82 |\n",
       "| 40       | 91431.08 |\n",
       "| 41       | 90481.77 |\n",
       "| 42       | 90897.55 |\n",
       "| 43       | 90791.18 |\n",
       "| 44       | 91244.34 |\n",
       "| 45       | 91403.92 |\n",
       "| 46       | 91672.58 |\n",
       "| 47       | 91166.40 |\n",
       "| 48       | 91392.80 |\n",
       "| 49       | 90894.22 |\n",
       "| 50       | 91768.77 |\n",
       "| 51       | 90922.68 |\n",
       "| 52       | 91341.80 |\n",
       "| 53       | 91899.09 |\n",
       "| 54       | 91892.17 |\n",
       "| 55       | 91102.05 |\n",
       "| 56       | 91143.79 |\n",
       "| 57       | 91041.44 |\n",
       "| 58       | 91035.45 |\n",
       "| 59       | 90678.51 |\n",
       "| 60       | 90657.31 |\n",
       "| 61       | 91111.54 |\n",
       "| 62       | 91940.22 |\n",
       "| 63       | 90901.48 |\n",
       "| 64       | 91731.44 |\n",
       "| 65       | 90696.43 |\n",
       "\n"
      ],
      "text/plain": [
       "   Age Mean_Income\n",
       "1  25  91164.57   \n",
       "2  26  90883.18   \n",
       "3  27  91554.38   \n",
       "4  28  91829.50   \n",
       "5  29  90913.65   \n",
       "6  30  90957.50   \n",
       "7  31  91652.70   \n",
       "8  32  91318.67   \n",
       "9  33  91825.69   \n",
       "10 34  91266.26   \n",
       "11 35  91465.11   \n",
       "12 36  91192.68   \n",
       "13 37  91724.96   \n",
       "14 38  90827.78   \n",
       "15 39  91243.82   \n",
       "16 40  91431.08   \n",
       "17 41  90481.77   \n",
       "18 42  90897.55   \n",
       "19 43  90791.18   \n",
       "20 44  91244.34   \n",
       "21 45  91403.92   \n",
       "22 46  91672.58   \n",
       "23 47  91166.40   \n",
       "24 48  91392.80   \n",
       "25 49  90894.22   \n",
       "26 50  91768.77   \n",
       "27 51  90922.68   \n",
       "28 52  91341.80   \n",
       "29 53  91899.09   \n",
       "30 54  91892.17   \n",
       "31 55  91102.05   \n",
       "32 56  91143.79   \n",
       "33 57  91041.44   \n",
       "34 58  91035.45   \n",
       "35 59  90678.51   \n",
       "36 60  90657.31   \n",
       "37 61  91111.54   \n",
       "38 62  91940.22   \n",
       "39 63  90901.48   \n",
       "40 64  91731.44   \n",
       "41 65  90696.43   "
      ]
     },
     "metadata": {},
     "output_type": "display_data"
    }
   ],
   "source": [
    "sort_age <- sort(unique(df$Age))\n",
    "\n",
    "mean_income <- c()\n",
    "for (i in sort_age){\n",
    "  temp_df <- df[df$Age == i,]\n",
    "  mean_income <- c(mean_income,mean(temp_df$Income))\n",
    "}\n",
    "\n",
    "df_ageincome <- data.frame(\"Age\" = sort_age, \"Mean_Income\" = mean_income)\n",
    "df_ageincome\n"
   ]
  },
  {
   "cell_type": "markdown",
   "id": "5f6baa5c",
   "metadata": {},
   "source": [
    "### Calculating Sum of Income according to the Age:"
   ]
  },
  {
   "cell_type": "code",
   "execution_count": 7,
   "id": "47b9d6d0",
   "metadata": {},
   "outputs": [
    {
     "data": {
      "text/html": [
       "<table>\n",
       "<thead><tr><th scope=col>Age</th><th scope=col>Sum_Income</th></tr></thead>\n",
       "<tbody>\n",
       "\t<tr><td>25       </td><td>170295410</td></tr>\n",
       "\t<tr><td>26       </td><td>356080301</td></tr>\n",
       "\t<tr><td>27       </td><td>346991099</td></tr>\n",
       "\t<tr><td>28       </td><td>348768431</td></tr>\n",
       "\t<tr><td>29       </td><td>345926448</td></tr>\n",
       "\t<tr><td>30       </td><td>339362414</td></tr>\n",
       "\t<tr><td>31       </td><td>343605954</td></tr>\n",
       "\t<tr><td>32       </td><td>343266869</td></tr>\n",
       "\t<tr><td>33       </td><td>346091026</td></tr>\n",
       "\t<tr><td>34       </td><td>338597810</td></tr>\n",
       "\t<tr><td>35       </td><td>334579362</td></tr>\n",
       "\t<tr><td>36       </td><td>344708315</td></tr>\n",
       "\t<tr><td>37       </td><td>345894825</td></tr>\n",
       "\t<tr><td>38       </td><td>339150928</td></tr>\n",
       "\t<tr><td>39       </td><td>335321049</td></tr>\n",
       "\t<tr><td>40       </td><td>341952227</td></tr>\n",
       "\t<tr><td>41       </td><td>349440607</td></tr>\n",
       "\t<tr><td>42       </td><td>341774789</td></tr>\n",
       "\t<tr><td>43       </td><td>350635555</td></tr>\n",
       "\t<tr><td>44       </td><td>345086104</td></tr>\n",
       "\t<tr><td>45       </td><td>335452375</td></tr>\n",
       "\t<tr><td>46       </td><td>339830269</td></tr>\n",
       "\t<tr><td>47       </td><td>343970840</td></tr>\n",
       "\t<tr><td>48       </td><td>342083235</td></tr>\n",
       "\t<tr><td>49       </td><td>341944058</td></tr>\n",
       "\t<tr><td>50       </td><td>338810307</td></tr>\n",
       "\t<tr><td>51       </td><td>339050677</td></tr>\n",
       "\t<tr><td>52       </td><td>342805774</td></tr>\n",
       "\t<tr><td>53       </td><td>342232228</td></tr>\n",
       "\t<tr><td>54       </td><td>352682137</td></tr>\n",
       "\t<tr><td>55       </td><td>335893260</td></tr>\n",
       "\t<tr><td>56       </td><td>328299947</td></tr>\n",
       "\t<tr><td>57       </td><td>339766664</td></tr>\n",
       "\t<tr><td>58       </td><td>342475349</td></tr>\n",
       "\t<tr><td>59       </td><td>342311384</td></tr>\n",
       "\t<tr><td>60       </td><td>324734495</td></tr>\n",
       "\t<tr><td>61       </td><td>340483842</td></tr>\n",
       "\t<tr><td>62       </td><td>338707782</td></tr>\n",
       "\t<tr><td>63       </td><td>343971200</td></tr>\n",
       "\t<tr><td>64       </td><td>355826250</td></tr>\n",
       "\t<tr><td>65       </td><td>169058145</td></tr>\n",
       "</tbody>\n",
       "</table>\n"
      ],
      "text/latex": [
       "\\begin{tabular}{r|ll}\n",
       " Age & Sum\\_Income\\\\\n",
       "\\hline\n",
       "\t 25        & 170295410\\\\\n",
       "\t 26        & 356080301\\\\\n",
       "\t 27        & 346991099\\\\\n",
       "\t 28        & 348768431\\\\\n",
       "\t 29        & 345926448\\\\\n",
       "\t 30        & 339362414\\\\\n",
       "\t 31        & 343605954\\\\\n",
       "\t 32        & 343266869\\\\\n",
       "\t 33        & 346091026\\\\\n",
       "\t 34        & 338597810\\\\\n",
       "\t 35        & 334579362\\\\\n",
       "\t 36        & 344708315\\\\\n",
       "\t 37        & 345894825\\\\\n",
       "\t 38        & 339150928\\\\\n",
       "\t 39        & 335321049\\\\\n",
       "\t 40        & 341952227\\\\\n",
       "\t 41        & 349440607\\\\\n",
       "\t 42        & 341774789\\\\\n",
       "\t 43        & 350635555\\\\\n",
       "\t 44        & 345086104\\\\\n",
       "\t 45        & 335452375\\\\\n",
       "\t 46        & 339830269\\\\\n",
       "\t 47        & 343970840\\\\\n",
       "\t 48        & 342083235\\\\\n",
       "\t 49        & 341944058\\\\\n",
       "\t 50        & 338810307\\\\\n",
       "\t 51        & 339050677\\\\\n",
       "\t 52        & 342805774\\\\\n",
       "\t 53        & 342232228\\\\\n",
       "\t 54        & 352682137\\\\\n",
       "\t 55        & 335893260\\\\\n",
       "\t 56        & 328299947\\\\\n",
       "\t 57        & 339766664\\\\\n",
       "\t 58        & 342475349\\\\\n",
       "\t 59        & 342311384\\\\\n",
       "\t 60        & 324734495\\\\\n",
       "\t 61        & 340483842\\\\\n",
       "\t 62        & 338707782\\\\\n",
       "\t 63        & 343971200\\\\\n",
       "\t 64        & 355826250\\\\\n",
       "\t 65        & 169058145\\\\\n",
       "\\end{tabular}\n"
      ],
      "text/markdown": [
       "\n",
       "| Age | Sum_Income |\n",
       "|---|---|\n",
       "| 25        | 170295410 |\n",
       "| 26        | 356080301 |\n",
       "| 27        | 346991099 |\n",
       "| 28        | 348768431 |\n",
       "| 29        | 345926448 |\n",
       "| 30        | 339362414 |\n",
       "| 31        | 343605954 |\n",
       "| 32        | 343266869 |\n",
       "| 33        | 346091026 |\n",
       "| 34        | 338597810 |\n",
       "| 35        | 334579362 |\n",
       "| 36        | 344708315 |\n",
       "| 37        | 345894825 |\n",
       "| 38        | 339150928 |\n",
       "| 39        | 335321049 |\n",
       "| 40        | 341952227 |\n",
       "| 41        | 349440607 |\n",
       "| 42        | 341774789 |\n",
       "| 43        | 350635555 |\n",
       "| 44        | 345086104 |\n",
       "| 45        | 335452375 |\n",
       "| 46        | 339830269 |\n",
       "| 47        | 343970840 |\n",
       "| 48        | 342083235 |\n",
       "| 49        | 341944058 |\n",
       "| 50        | 338810307 |\n",
       "| 51        | 339050677 |\n",
       "| 52        | 342805774 |\n",
       "| 53        | 342232228 |\n",
       "| 54        | 352682137 |\n",
       "| 55        | 335893260 |\n",
       "| 56        | 328299947 |\n",
       "| 57        | 339766664 |\n",
       "| 58        | 342475349 |\n",
       "| 59        | 342311384 |\n",
       "| 60        | 324734495 |\n",
       "| 61        | 340483842 |\n",
       "| 62        | 338707782 |\n",
       "| 63        | 343971200 |\n",
       "| 64        | 355826250 |\n",
       "| 65        | 169058145 |\n",
       "\n"
      ],
      "text/plain": [
       "   Age Sum_Income\n",
       "1  25  170295410 \n",
       "2  26  356080301 \n",
       "3  27  346991099 \n",
       "4  28  348768431 \n",
       "5  29  345926448 \n",
       "6  30  339362414 \n",
       "7  31  343605954 \n",
       "8  32  343266869 \n",
       "9  33  346091026 \n",
       "10 34  338597810 \n",
       "11 35  334579362 \n",
       "12 36  344708315 \n",
       "13 37  345894825 \n",
       "14 38  339150928 \n",
       "15 39  335321049 \n",
       "16 40  341952227 \n",
       "17 41  349440607 \n",
       "18 42  341774789 \n",
       "19 43  350635555 \n",
       "20 44  345086104 \n",
       "21 45  335452375 \n",
       "22 46  339830269 \n",
       "23 47  343970840 \n",
       "24 48  342083235 \n",
       "25 49  341944058 \n",
       "26 50  338810307 \n",
       "27 51  339050677 \n",
       "28 52  342805774 \n",
       "29 53  342232228 \n",
       "30 54  352682137 \n",
       "31 55  335893260 \n",
       "32 56  328299947 \n",
       "33 57  339766664 \n",
       "34 58  342475349 \n",
       "35 59  342311384 \n",
       "36 60  324734495 \n",
       "37 61  340483842 \n",
       "38 62  338707782 \n",
       "39 63  343971200 \n",
       "40 64  355826250 \n",
       "41 65  169058145 "
      ]
     },
     "metadata": {},
     "output_type": "display_data"
    }
   ],
   "source": [
    "sort_age <- sort(unique(df$Age))\n",
    "\n",
    "sum_income <- c()\n",
    "for (i in sort_age){\n",
    "  temp_df <- df[df$Age == i,]\n",
    "  sum_income <- c(sum_income,sum(temp_df$Income))\n",
    "}\n",
    "\n",
    "df_agesincome <- data.frame(\"Age\" = sort_age, \"Sum_Income\" = sum_income)\n",
    "df_agesincome"
   ]
  },
  {
   "cell_type": "markdown",
   "id": "6cfefa21",
   "metadata": {},
   "source": [
    "### Visualization:\n",
    "\n",
    "Plotting Sum of Income vs Age"
   ]
  },
  {
   "cell_type": "code",
   "execution_count": 8,
   "id": "719c4b8d",
   "metadata": {},
   "outputs": [
    {
     "data": {
      "image/png": "[encoded data removed]",
      "text/plain": [
       "plot without title"
      ]
     },
     "metadata": {},
     "output_type": "display_data"
    }
   ],
   "source": [
    "barplot(df_agesincome$Sum_Income, df_agesincome$Age, col = \"Cyan\")"
   ]
  },
  {
   "cell_type": "markdown",
   "id": "b3843757",
   "metadata": {},
   "source": [
    "### Calculating Mean Income according to the Gender:"
   ]
  },
  {
   "cell_type": "code",
   "execution_count": 9,
   "id": "e915adf5",
   "metadata": {},
   "outputs": [
    {
     "data": {
      "text/html": [
       "<table>\n",
       "<thead><tr><th scope=col>Gender</th><th scope=col>Mean_Income</th></tr></thead>\n",
       "<tbody>\n",
       "\t<tr><td>Male    </td><td>95670.25</td></tr>\n",
       "\t<tr><td>Female  </td><td>85660.92</td></tr>\n",
       "</tbody>\n",
       "</table>\n"
      ],
      "text/latex": [
       "\\begin{tabular}{r|ll}\n",
       " Gender & Mean\\_Income\\\\\n",
       "\\hline\n",
       "\t Male     & 95670.25\\\\\n",
       "\t Female   & 85660.92\\\\\n",
       "\\end{tabular}\n"
      ],
      "text/markdown": [
       "\n",
       "| Gender | Mean_Income |\n",
       "|---|---|\n",
       "| Male     | 95670.25 |\n",
       "| Female   | 85660.92 |\n",
       "\n"
      ],
      "text/plain": [
       "  Gender Mean_Income\n",
       "1 Male   95670.25   \n",
       "2 Female 85660.92   "
      ]
     },
     "metadata": {},
     "output_type": "display_data"
    }
   ],
   "source": [
    "unique_gender <- unique(df$Gender)\n",
    "\n",
    "mean_income <- c()\n",
    "for (i in unique_gender){\n",
    "  temp_df <- df[df$Gender == i,]\n",
    "  mean_income <- c(mean_income,mean(temp_df$Income))\n",
    "}\n",
    "\n",
    "df_genderincome <- data.frame(\"Gender\" = unique_gender, \"Mean_Income\" = mean_income)\n",
    "df_genderincome"
   ]
  },
  {
   "cell_type": "markdown",
   "id": "646f6945",
   "metadata": {},
   "source": [
    "### Calculating Sum of Income according to the Gender:"
   ]
  },
  {
   "cell_type": "code",
   "execution_count": 10,
   "id": "d024e706",
   "metadata": {},
   "outputs": [
    {
     "data": {
      "text/html": [
       "<table>\n",
       "<thead><tr><th scope=col>Gender</th><th scope=col>Sum_Income</th></tr></thead>\n",
       "<tbody>\n",
       "\t<tr><td>Male      </td><td>8017166715</td></tr>\n",
       "\t<tr><td>Female    </td><td>5670753026</td></tr>\n",
       "</tbody>\n",
       "</table>\n"
      ],
      "text/latex": [
       "\\begin{tabular}{r|ll}\n",
       " Gender & Sum\\_Income\\\\\n",
       "\\hline\n",
       "\t Male       & 8017166715\\\\\n",
       "\t Female     & 5670753026\\\\\n",
       "\\end{tabular}\n"
      ],
      "text/markdown": [
       "\n",
       "| Gender | Sum_Income |\n",
       "|---|---|\n",
       "| Male       | 8017166715 |\n",
       "| Female     | 5670753026 |\n",
       "\n"
      ],
      "text/plain": [
       "  Gender Sum_Income\n",
       "1 Male   8017166715\n",
       "2 Female 5670753026"
      ]
     },
     "metadata": {},
     "output_type": "display_data"
    }
   ],
   "source": [
    "unique_gender <- unique(df$Gender)\n",
    "\n",
    "sum_income <- c()\n",
    "for (i in unique_gender){\n",
    "  temp_df <- df[df$Gender == i,]\n",
    "  sum_income <- c(sum_income,sum(temp_df$Income))\n",
    "}\n",
    "\n",
    "df_gendersincome <- data.frame(\"Gender\" = unique_gender, \"Sum_Income\" = sum_income)\n",
    "df_gendersincome"
   ]
  },
  {
   "cell_type": "markdown",
   "id": "7e7744e8",
   "metadata": {},
   "source": [
    "### Visualization:\n",
    "\n",
    "Plotting Sum of Income vs Gender"
   ]
  },
  {
   "cell_type": "code",
   "execution_count": 11,
   "id": "305dabba",
   "metadata": {},
   "outputs": [
    {
     "data": {
      "image/png": "[encoded data removed]",
      "text/plain": [
       "plot without title"
      ]
     },
     "metadata": {},
     "output_type": "display_data"
    }
   ],
   "source": [
    "pie(df_gendersincome$Sum_Income, df_gendersincome$Gender, col = rainbow(2))"
   ]
  },
  {
   "cell_type": "markdown",
   "id": "d3a3f729",
   "metadata": {},
   "source": [
    "## Random sampling according to the Gender:"
   ]
  },
  {
   "cell_type": "code",
   "execution_count": 12,
   "id": "7320cc4d",
   "metadata": {},
   "outputs": [],
   "source": [
    "df_male <- df[df$Gender == \"Male\", ]\n",
    "df_female <- df[df$Gender == \"Female\", ]"
   ]
  },
  {
   "cell_type": "code",
   "execution_count": 13,
   "id": "6631a902",
   "metadata": {},
   "outputs": [],
   "source": [
    "sample_male <- df_male[sample(nrow(df_male), 30, replace = FALSE), ]\n",
    "sample_female <- df_female[sample(nrow(df_female), 30, replace = FALSE), ]"
   ]
  },
  {
   "cell_type": "markdown",
   "id": "c1d5a3be",
   "metadata": {},
   "source": [
    "## Assumptions:\n",
    "\n",
    "\n",
    "1.Simple random sample, that the data is collected from a representative, randomly selected portion of the total population.\n",
    "\n",
    "2.When plotted, results in a normal distribution, bell-shaped distribution curve.\n",
    "\n",
    "3.Sample size should be less than 30. Here we take sample of 30.\n",
    "\n",
    "4.Homogeneity of variance. Homogeneous, or equal, variance exists.\n",
    "\n",
    "5.Here we predetermine Level of Significance as 5% or 0.05.\n"
   ]
  },
  {
   "cell_type": "markdown",
   "id": "f57bbc1a",
   "metadata": {},
   "source": [
    "### Assumption 2:To check whether our data sets are normally distributed or not.\n",
    " \n",
    "To check whether data is normally distributed or not we use Shapiro-Wilk test.\n",
    " \n",
    "  If the p-value is greater than the level of significance i.e. 0.05 we can assume that the given data is normally distributed.\n",
    "  \n",
    "  \n",
    "After checking that data is normally distibuted we plot it's graph to see whether it is bell shaped distibution curve or not using dnorm(x,mean(x),sd(x)).  "
   ]
  },
  {
   "cell_type": "markdown",
   "id": "c3ec0125",
   "metadata": {},
   "source": [
    "#### For Male:"
   ]
  },
  {
   "cell_type": "code",
   "execution_count": 14,
   "id": "327e65a2",
   "metadata": {},
   "outputs": [
    {
     "data": {
      "text/plain": [
       "\n",
       "\tShapiro-Wilk normality test\n",
       "\n",
       "data:  sample_male$Income\n",
       "W = 0.96968, p-value = 0.5304\n"
      ]
     },
     "metadata": {},
     "output_type": "display_data"
    },
    {
     "data": {
      "image/png": "[encoded data removed]",
      "text/plain": [
       "plot without title"
      ]
     },
     "metadata": {},
     "output_type": "display_data"
    }
   ],
   "source": [
    "shapiro.test(sample_male$Income)\n",
    "M<-dnorm(sample_male$Income,mean(sample_male$Income),sd(sample_male$Income))\n",
    "plot(sample_male$Income,M)"
   ]
  },
  {
   "cell_type": "markdown",
   "id": "fd3825ba",
   "metadata": {},
   "source": [
    "##### Conclusion:\n",
    "\n",
    "Here we conclude that our data for Male is normally distributed. As the p-value is greater than level of significance i.e. 0.05 and the graph shows the bell shaped distribution."
   ]
  },
  {
   "cell_type": "markdown",
   "id": "214ed5e3",
   "metadata": {},
   "source": [
    "#### For Female:"
   ]
  },
  {
   "cell_type": "code",
   "execution_count": 15,
   "id": "265ec602",
   "metadata": {},
   "outputs": [
    {
     "data": {
      "text/plain": [
       "\n",
       "\tShapiro-Wilk normality test\n",
       "\n",
       "data:  sample_female$Income\n",
       "W = 0.971, p-value = 0.5668\n"
      ]
     },
     "metadata": {},
     "output_type": "display_data"
    },
    {
     "data": {
      "image/png": "[encoded data removed]",
      "text/plain": [
       "plot without title"
      ]
     },
     "metadata": {},
     "output_type": "display_data"
    }
   ],
   "source": [
    "shapiro.test(sample_female$Income)\n",
    "F<-dnorm(sample_female$Income,mean(sample_female$Income),sd(sample_female$Income))\n",
    "plot(sample_female$Income,F)"
   ]
  },
  {
   "cell_type": "markdown",
   "id": "25a63f9a",
   "metadata": {},
   "source": [
    "##### Conclusion:\n",
    "\n",
    "Here we conclude that our data for Female is normally distributed. As the p-value is greater than level of significance i.e. 0.05 and the graph shows the bell shaped distribution."
   ]
  },
  {
   "cell_type": "markdown",
   "id": "ede6e6d5",
   "metadata": {},
   "source": [
    "### Assumption 4:To check whether homogenity is present in data or not.\n",
    "\n",
    "To check whether the variances are homogeneous i.e. equal or not we use F-test.\n",
    " If the p-value is greater than level of significance i.e. 0.05, we can assume that the variances of the two variables are equal."
   ]
  },
  {
   "cell_type": "code",
   "execution_count": 56,
   "id": "e49a4a49",
   "metadata": {},
   "outputs": [
    {
     "data": {
      "text/plain": [
       "\n",
       "\tF test to compare two variances\n",
       "\n",
       "data:  sample_male$Income and sample_female$Income\n",
       "F = 1.0758, num df = 29, denom df = 29, p-value = 0.8454\n",
       "alternative hypothesis: true ratio of variances is not equal to 1\n",
       "95 percent confidence interval:\n",
       " 0.5120272 2.2601822\n",
       "sample estimates:\n",
       "ratio of variances \n",
       "          1.075767 \n"
      ]
     },
     "metadata": {},
     "output_type": "display_data"
    }
   ],
   "source": [
    "var.test(sample_male$Income,sample_female$Income)"
   ]
  },
  {
   "cell_type": "markdown",
   "id": "137380d6",
   "metadata": {},
   "source": [
    "###### "
   ]
  },
  {
   "cell_type": "markdown",
   "id": "8089c900",
   "metadata": {},
   "source": [
    "##### Conclusion:\n",
    "\n",
    "Homogenity is present in the given data sets. As the p-value of f-test is greater than the legel of significance i.e. 0.05."
   ]
  },
  {
   "cell_type": "markdown",
   "id": "d208d205",
   "metadata": {},
   "source": [
    "## t-test:"
   ]
  },
  {
   "cell_type": "markdown",
   "id": "112d8d00",
   "metadata": {},
   "source": [
    "### Setting of Hypothesis:\n",
    "\n",
    "Null Hypothesis,\n",
    "                Ho:There is no significant difference between the mean income of Male and Female i.e. no relation exists                       between the mean income of Male and Female.\n",
    "\n",
    "\n",
    "Alternative Hypothesis,\n",
    "                H1:There is a significant difference between the mean income of Male and Female i.e. some relation exists                       between the mean income of Male and Female."
   ]
  },
  {
   "cell_type": "markdown",
   "id": "7ebe549a",
   "metadata": {},
   "source": [
    "### Test Statistic:"
   ]
  },
  {
   "cell_type": "markdown",
   "id": "fdaa48a0",
   "metadata": {},
   "source": [
    "#### Method 1: From Scratch"
   ]
  },
  {
   "cell_type": "markdown",
   "id": "d12a8841",
   "metadata": {},
   "source": [
    "##### Calculating the mean of the samples:"
   ]
  },
  {
   "cell_type": "code",
   "execution_count": 17,
   "id": "a21526d1",
   "metadata": {},
   "outputs": [
    {
     "name": "stdout",
     "output_type": "stream",
     "text": [
      "[1] 90028.3\n",
      "[1] 80429.2\n"
     ]
    }
   ],
   "source": [
    "mean_Male <- mean(sample_male$Income)\n",
    "print(mean_Male)\n",
    "mean_Female <- mean(sample_female$Income)\n",
    "print(mean_Female)"
   ]
  },
  {
   "cell_type": "markdown",
   "id": "2d5268bf",
   "metadata": {},
   "source": [
    "##### Calculating the standard deviation of the samples:"
   ]
  },
  {
   "cell_type": "code",
   "execution_count": 18,
   "id": "8ce4f0c5",
   "metadata": {},
   "outputs": [
    {
     "name": "stdout",
     "output_type": "stream",
     "text": [
      "[1] 30577.81\n",
      "[1] 29481.34\n"
     ]
    }
   ],
   "source": [
    "sd_Male <- sd(sample_male$Income)\n",
    "print(sd_Male)\n",
    "sd_Female <-sd(sample_female$Income)\n",
    "print(sd_Female)"
   ]
  },
  {
   "cell_type": "markdown",
   "id": "2d79148c",
   "metadata": {},
   "source": [
    "##### Calculating t-value:"
   ]
  },
  {
   "cell_type": "code",
   "execution_count": 20,
   "id": "7e688e33",
   "metadata": {},
   "outputs": [
    {
     "name": "stdout",
     "output_type": "stream",
     "text": [
      "[1] 1.237812\n"
     ]
    }
   ],
   "source": [
    "t_stat<-(mean_Male - mean_Female) / sqrt((sd_Male^2 / length(sample_male$Income)) + (sd_Female^2 / length(sample_female$Income)))\n",
    "print(t_stat)"
   ]
  },
  {
   "cell_type": "markdown",
   "id": "b3acd2c1",
   "metadata": {},
   "source": [
    "#### Method 2: Direct Method"
   ]
  },
  {
   "cell_type": "code",
   "execution_count": 21,
   "id": "75dacdd0",
   "metadata": {},
   "outputs": [
    {
     "data": {
      "text/plain": [
       "\n",
       "\tWelch Two Sample t-test\n",
       "\n",
       "data:  sample_male$Income and sample_female$Income\n",
       "t = 1.2378, df = 57.923, p-value = 0.2208\n",
       "alternative hypothesis: true difference in means is not equal to 0\n",
       "95 percent confidence interval:\n",
       " -5924.447 25122.647\n",
       "sample estimates:\n",
       "mean of x mean of y \n",
       "  90028.3   80429.2 \n"
      ]
     },
     "metadata": {},
     "output_type": "display_data"
    }
   ],
   "source": [
    "t <- t.test(sample_male$Income, sample_female$Income, alternate = \"two.sided\") \n",
    "t"
   ]
  },
  {
   "cell_type": "markdown",
   "id": "834cbd89",
   "metadata": {},
   "source": [
    "#####  Calculating p-value:"
   ]
  },
  {
   "cell_type": "code",
   "execution_count": 22,
   "id": "b4495ab0",
   "metadata": {},
   "outputs": [
    {
     "data": {
      "text/html": [
       "0.220779851359298"
      ],
      "text/latex": [
       "0.220779851359298"
      ],
      "text/markdown": [
       "0.220779851359298"
      ],
      "text/plain": [
       "[1] 0.2207799"
      ]
     },
     "metadata": {},
     "output_type": "display_data"
    }
   ],
   "source": [
    "p_value_t <- t$p.value\n",
    "p_value_t"
   ]
  },
  {
   "cell_type": "markdown",
   "id": "35a24515",
   "metadata": {},
   "source": [
    "### Level of Significance:\n",
    "\n",
    "Here we predetermine level of significance as 5% i.e. 0.05."
   ]
  },
  {
   "cell_type": "markdown",
   "id": "27859c30",
   "metadata": {},
   "source": [
    "### Degree of freedom:\n",
    "\n",
    "df=n1+n2-2 \n",
    "\n",
    "where,\n",
    "\n",
    "      n1=Sample size of Male.\n",
    "\n",
    "      n2=Sample size of Female."
   ]
  },
  {
   "cell_type": "code",
   "execution_count": 23,
   "id": "c601c351",
   "metadata": {},
   "outputs": [
    {
     "name": "stdout",
     "output_type": "stream",
     "text": [
      "[1] 58\n"
     ]
    }
   ],
   "source": [
    "df<-length(sample_male$Income)+length(sample_female$Income)-2\n",
    "print(df)"
   ]
  },
  {
   "cell_type": "markdown",
   "id": "217074db",
   "metadata": {},
   "source": [
    "### Critical value:\n",
    "\n",
    "Tabulated value of t at 58 degrees of freedom at 5% level of significance is 1.672."
   ]
  },
  {
   "cell_type": "markdown",
   "id": "c4dbec47",
   "metadata": {},
   "source": [
    "### Decision:"
   ]
  },
  {
   "cell_type": "markdown",
   "id": "8c761292",
   "metadata": {},
   "source": [
    "#### Interpretation using t-value:"
   ]
  },
  {
   "cell_type": "code",
   "execution_count": 24,
   "id": "93078d37",
   "metadata": {},
   "outputs": [
    {
     "name": "stdout",
     "output_type": "stream",
     "text": [
      "[1] \"Here we Accept Null Hypothesis as calculated t-value is less than the tabulated t-value i.e. there is no relation exist between the mean income of Male and Female or we can say our data is insignificant\"\n"
     ]
    }
   ],
   "source": [
    "if (t_stat > 1.672){\n",
    "    print(\"Here we Reject Null Hypothesis as calculated t-value is greater than the tabulated t-value i.e. there is some relation exist between the mean income of Male and Female or we can say our data is significant\")\n",
    "} else{\n",
    "    print(\"Here we Accept Null Hypothesis as calculated t-value is less than the tabulated t-value i.e. there is no relation exist between the mean income of Male and Female or we can say our data is insignificant\")\n",
    "}"
   ]
  },
  {
   "cell_type": "markdown",
   "id": "a5a5ffa8",
   "metadata": {},
   "source": [
    "#### Interpretation using p-value:"
   ]
  },
  {
   "cell_type": "code",
   "execution_count": 25,
   "id": "c1f4ab46",
   "metadata": {},
   "outputs": [
    {
     "name": "stdout",
     "output_type": "stream",
     "text": [
      "[1] \"Here we Accept Null Hypothesis as calculated t-value is less than the tabulated t-value i.e. there is no relation exist between the mean income of Male and Female or we can say our data is insignificant\"\n"
     ]
    }
   ],
   "source": [
    "\n",
    "if (p_value_t < 0.05){\n",
    "    print(\"Here we Reject Null Hypothesis as calculated t-value is greater than the tabulated t-value i.e. there is some relation exist between the mean income of Male and Female or we can say our data is significant\")\n",
    "} else{\n",
    "    print(\"Here we Accept Null Hypothesis as calculated t-value is less than the tabulated t-value i.e. there is no relation exist between the mean income of Male and Female or we can say our data is insignificant\")\n",
    "}"
   ]
  },
  {
   "cell_type": "markdown",
   "id": "48d74ac6",
   "metadata": {},
   "source": [
    "## F-test:"
   ]
  },
  {
   "cell_type": "markdown",
   "id": "542af8f5",
   "metadata": {},
   "source": [
    "### Setting of Hypothesis:\n",
    "\n",
    "Null Hypothesis,\n",
    "                Ho:There is no significant difference between the variance of income of Male and Female i.e. no relation exists                       between the variance of income of Male and Female.\n",
    "\n",
    "\n",
    "Alternative Hypothesis,\n",
    "                H1:There is a significant difference between the variance of income of Male and Female i.e. some relation exists                       between the variance of income of Male and Female. "
   ]
  },
  {
   "cell_type": "markdown",
   "id": "aec8b0a8",
   "metadata": {},
   "source": [
    "### Test Statistic:"
   ]
  },
  {
   "cell_type": "markdown",
   "id": "fa89317e",
   "metadata": {},
   "source": [
    "#### Method 1: From Scratch"
   ]
  },
  {
   "cell_type": "markdown",
   "id": "a44baf01",
   "metadata": {},
   "source": [
    "#####  Calculating the mean of the samples:"
   ]
  },
  {
   "cell_type": "code",
   "execution_count": 26,
   "id": "27b1dd0b",
   "metadata": {},
   "outputs": [
    {
     "name": "stdout",
     "output_type": "stream",
     "text": [
      "[1] 90028.3\n",
      "[1] 80429.2\n"
     ]
    }
   ],
   "source": [
    "mean_Male <- mean(sample_male$Income)\n",
    "print(mean_Male)\n",
    "mean_Female <- mean(sample_female$Income)\n",
    "print(mean_Female)"
   ]
  },
  {
   "cell_type": "markdown",
   "id": "cbd44306",
   "metadata": {},
   "source": [
    "##### Calculating the variance of the samples:"
   ]
  },
  {
   "cell_type": "code",
   "execution_count": 27,
   "id": "24a9d21a",
   "metadata": {},
   "outputs": [
    {
     "name": "stdout",
     "output_type": "stream",
     "text": [
      "[1] 935002192\n",
      "[1] 869149274\n"
     ]
    }
   ],
   "source": [
    "var_Male <- var(sample_male$Income)\n",
    "print(var_Male)\n",
    "var_Female <- var(sample_female$Income)\n",
    "print(var_Female)"
   ]
  },
  {
   "cell_type": "markdown",
   "id": "8c65b1f6",
   "metadata": {},
   "source": [
    "##### Calculating F-value:"
   ]
  },
  {
   "cell_type": "code",
   "execution_count": 28,
   "id": "8fb1f26f",
   "metadata": {},
   "outputs": [
    {
     "data": {
      "text/html": [
       "1.07576709840175"
      ],
      "text/latex": [
       "1.07576709840175"
      ],
      "text/markdown": [
       "1.07576709840175"
      ],
      "text/plain": [
       "[1] 1.075767"
      ]
     },
     "metadata": {},
     "output_type": "display_data"
    }
   ],
   "source": [
    "F_stat <- var_Male / var_Female\n",
    "F_stat"
   ]
  },
  {
   "cell_type": "markdown",
   "id": "b21363e3",
   "metadata": {},
   "source": [
    "#### Method 2: Direct Method:"
   ]
  },
  {
   "cell_type": "code",
   "execution_count": 29,
   "id": "df5e031a",
   "metadata": {},
   "outputs": [
    {
     "data": {
      "text/plain": [
       "\n",
       "\tF test to compare two variances\n",
       "\n",
       "data:  sample_male$Income and sample_female$Income\n",
       "F = 1.0758, num df = 29, denom df = 29, p-value = 0.8454\n",
       "alternative hypothesis: true ratio of variances is not equal to 1\n",
       "95 percent confidence interval:\n",
       " 0.5120272 2.2601822\n",
       "sample estimates:\n",
       "ratio of variances \n",
       "          1.075767 \n"
      ]
     },
     "metadata": {},
     "output_type": "display_data"
    }
   ],
   "source": [
    "var.test(sample_male$Income, sample_female$Income)"
   ]
  },
  {
   "cell_type": "markdown",
   "id": "9da6ef32",
   "metadata": {},
   "source": [
    "#####  Calculating p-value:"
   ]
  },
  {
   "cell_type": "code",
   "execution_count": 43,
   "id": "bfe39306",
   "metadata": {},
   "outputs": [
    {
     "data": {
      "text/html": [
       "0.422719599756794"
      ],
      "text/latex": [
       "0.422719599756794"
      ],
      "text/markdown": [
       "0.422719599756794"
      ],
      "text/plain": [
       "[1] 0.4227196"
      ]
     },
     "metadata": {},
     "output_type": "display_data"
    }
   ],
   "source": [
    "df1 <- length(sample_male$Income) - 1\n",
    "df2 <- length(sample_female$Income) - 1\n",
    "\n",
    "# Calculate the p-value\n",
    "p_value_F <- pf(F_stat, df1, df2, lower.tail = FALSE)\n",
    "p_value_F"
   ]
  },
  {
   "cell_type": "markdown",
   "id": "d88c9e6d",
   "metadata": {},
   "source": [
    "### Level of Significance: \n",
    "\n",
    "Here we predetermine level of significance as 5% i.e. 0.05."
   ]
  },
  {
   "cell_type": "markdown",
   "id": "9382627d",
   "metadata": {},
   "source": [
    "### Critical Value:\n",
    "\n",
    "Tabulated value of F at 29,29 degrees of freedom at 5% level of significance is 1.85."
   ]
  },
  {
   "cell_type": "markdown",
   "id": "cd64ffbd",
   "metadata": {},
   "source": [
    "### Decision:"
   ]
  },
  {
   "cell_type": "markdown",
   "id": "8a84fa04",
   "metadata": {},
   "source": [
    "#### Interpretation using F-value:"
   ]
  },
  {
   "cell_type": "code",
   "execution_count": 57,
   "id": "54c6ef78",
   "metadata": {},
   "outputs": [
    {
     "name": "stdout",
     "output_type": "stream",
     "text": [
      "[1] \"Here we Accept Null Hypothesis as calculated t-value is less than the tabulated t-value i.e. there is no relation exist between the variance of income of Male and Female or we can say our data is insignificant\"\n"
     ]
    }
   ],
   "source": [
    "if (F_stat > 1.672){\n",
    "    print(\"Here we Reject Null Hypothesis as calculated t-value is greater than the tabulated t-value i.e. there is some relation exist between the variance of income of Male and Female or we can say our data is significant\")\n",
    "} else{\n",
    "    print(\"Here we Accept Null Hypothesis as calculated t-value is less than the tabulated t-value i.e. there is no relation exist between the variance of income of Male and Female or we can say our data is insignificant\")\n",
    "}"
   ]
  },
  {
   "cell_type": "markdown",
   "id": "40ba155e",
   "metadata": {},
   "source": [
    "#### Interpretation using p-value:"
   ]
  },
  {
   "cell_type": "code",
   "execution_count": 45,
   "id": "709ad9f6",
   "metadata": {},
   "outputs": [
    {
     "name": "stdout",
     "output_type": "stream",
     "text": [
      "[1] \"Here we Accept Null Hypothesis as calculated t-value is less than the tabulated t-value i.e. there is no relation exist between the mean variance of Male and Female or we can say our data is insignificant\"\n"
     ]
    }
   ],
   "source": [
    "if (p_value_F < 0.05){\n",
    "    print(\"Here we Reject Null Hypothesis as calculated t-value is greater than the tabulated t-value i.e. there is some relation exist between the variance income of Male and Female or we can say our data is significant\")\n",
    "} else{\n",
    "    print(\"Here we Accept Null Hypothesis as calculated t-value is less than the tabulated t-value i.e. there is no relation exist between the mean variance of Male and Female or we can say our data is insignificant\")\n",
    "}"
   ]
  },
  {
   "cell_type": "markdown",
   "id": "576b7376",
   "metadata": {},
   "source": [
    "## Chi-square test:"
   ]
  },
  {
   "cell_type": "markdown",
   "id": "0fe38905",
   "metadata": {},
   "source": [
    "### Setting of Hypothesis:\n",
    "\n",
    "Null Hypothesis,\n",
    "                Ho:There is no significant difference between the Age and Gender of a customer i.e. no relation exists                       between the Age and Gender of a customer.\n",
    "\n",
    "\n",
    "Alternative Hypothesis,\n",
    "                H1:There is a significant difference between the  Age and Gender of a customer i.e. some relation exists                       between the  Age and Gender of a customer."
   ]
  },
  {
   "cell_type": "markdown",
   "id": "2ed68abb",
   "metadata": {},
   "source": [
    "### Test Statistic:"
   ]
  },
  {
   "cell_type": "markdown",
   "id": "ebcfa77b",
   "metadata": {},
   "source": [
    "#### Creating contingency table: "
   ]
  },
  {
   "cell_type": "code",
   "execution_count": 46,
   "id": "0e0f10e8",
   "metadata": {},
   "outputs": [
    {
     "data": {
      "text/html": [
       "<table>\n",
       "<thead><tr><th></th><th scope=col>Male</th><th scope=col>Female</th></tr></thead>\n",
       "<tbody>\n",
       "\t<tr><th scope=row>Age&lt;=45</th><td>43198</td><td>33993</td></tr>\n",
       "\t<tr><th scope=row>Age&gt;45</th><td>40602</td><td>32207</td></tr>\n",
       "</tbody>\n",
       "</table>\n"
      ],
      "text/latex": [
       "\\begin{tabular}{r|ll}\n",
       "  & Male & Female\\\\\n",
       "\\hline\n",
       "\tAge<=45 & 43198 & 33993\\\\\n",
       "\tAge>45 & 40602 & 32207\\\\\n",
       "\\end{tabular}\n"
      ],
      "text/markdown": [
       "\n",
       "| <!--/--> | Male | Female |\n",
       "|---|---|---|\n",
       "| Age<=45 | 43198 | 33993 |\n",
       "| Age>45 | 40602 | 32207 |\n",
       "\n"
      ],
      "text/plain": [
       "        Male  Female\n",
       "Age<=45 43198 33993 \n",
       "Age>45  40602 32207 "
      ]
     },
     "metadata": {},
     "output_type": "display_data"
    }
   ],
   "source": [
    "Male_young <- nrow(df_male[df_male$Age <= 45, ])\n",
    "Female_young <- nrow(df_female[df_female$Age <= 45, ])\n",
    "Male_old <- nrow(df_male[df_male$Age > 45, ])\n",
    "Female_old <-nrow(df_female[df_female$Age > 45, ])\n",
    "\n",
    "contingency <- data.frame(\"Male\" = c(Male_young, Male_old), \"Female\" = c(Female_young, Female_old), row.names = c(\"Age<=45\", \"Age>45\"))\n",
    "contingency"
   ]
  },
  {
   "cell_type": "markdown",
   "id": "94b896b5",
   "metadata": {},
   "source": [
    "#### Method 1: From Scratch"
   ]
  },
  {
   "cell_type": "markdown",
   "id": "edca079e",
   "metadata": {},
   "source": [
    "##### Calculating sum:"
   ]
  },
  {
   "cell_type": "code",
   "execution_count": 47,
   "id": "3a675822",
   "metadata": {},
   "outputs": [
    {
     "data": {
      "text/html": [
       "<dl class=dl-horizontal>\n",
       "\t<dt>Age&lt;=45</dt>\n",
       "\t\t<dd>77191</dd>\n",
       "\t<dt>Age&gt;45</dt>\n",
       "\t\t<dd>72809</dd>\n",
       "</dl>\n"
      ],
      "text/latex": [
       "\\begin{description*}\n",
       "\\item[Age<=45] 77191\n",
       "\\item[Age>45] 72809\n",
       "\\end{description*}\n"
      ],
      "text/markdown": [
       "Age&amp;lt;=45\n",
       ":   77191Age&amp;gt;45\n",
       ":   72809\n",
       "\n"
      ],
      "text/plain": [
       "Age<=45  Age>45 \n",
       "  77191   72809 "
      ]
     },
     "metadata": {},
     "output_type": "display_data"
    },
    {
     "data": {
      "text/html": [
       "<dl class=dl-horizontal>\n",
       "\t<dt>Male</dt>\n",
       "\t\t<dd>83800</dd>\n",
       "\t<dt>Female</dt>\n",
       "\t\t<dd>66200</dd>\n",
       "</dl>\n"
      ],
      "text/latex": [
       "\\begin{description*}\n",
       "\\item[Male] 83800\n",
       "\\item[Female] 66200\n",
       "\\end{description*}\n"
      ],
      "text/markdown": [
       "Male\n",
       ":   83800Female\n",
       ":   66200\n",
       "\n"
      ],
      "text/plain": [
       "  Male Female \n",
       " 83800  66200 "
      ]
     },
     "metadata": {},
     "output_type": "display_data"
    },
    {
     "data": {
      "text/html": [
       "150000"
      ],
      "text/latex": [
       "150000"
      ],
      "text/markdown": [
       "150000"
      ],
      "text/plain": [
       "[1] 150000"
      ]
     },
     "metadata": {},
     "output_type": "display_data"
    }
   ],
   "source": [
    "row_totals <- rowSums(contingency)\n",
    "col_totals <- colSums(contingency)\n",
    "total <- sum(contingency)\n",
    "\n",
    "row_totals\n",
    "col_totals \n",
    "total"
   ]
  },
  {
   "cell_type": "markdown",
   "id": "b4117219",
   "metadata": {},
   "source": [
    "##### Calculating Exected Frequencies:"
   ]
  },
  {
   "cell_type": "code",
   "execution_count": 48,
   "id": "6347e86f",
   "metadata": {},
   "outputs": [
    {
     "data": {
      "text/html": [
       "<table>\n",
       "<thead><tr><th></th><th scope=col>Male</th><th scope=col>Female</th></tr></thead>\n",
       "<tbody>\n",
       "\t<tr><th scope=row>Age&lt;=45</th><td>43124.04</td><td>34066.96</td></tr>\n",
       "\t<tr><th scope=row>Age&gt;45</th><td>40675.96</td><td>32133.04</td></tr>\n",
       "</tbody>\n",
       "</table>\n"
      ],
      "text/latex": [
       "\\begin{tabular}{r|ll}\n",
       "  & Male & Female\\\\\n",
       "\\hline\n",
       "\tAge<=45 & 43124.04 & 34066.96\\\\\n",
       "\tAge>45 & 40675.96 & 32133.04\\\\\n",
       "\\end{tabular}\n"
      ],
      "text/markdown": [
       "\n",
       "| <!--/--> | Male | Female |\n",
       "|---|---|---|\n",
       "| Age<=45 | 43124.04 | 34066.96 |\n",
       "| Age>45 | 40675.96 | 32133.04 |\n",
       "\n"
      ],
      "text/plain": [
       "        Male     Female  \n",
       "Age<=45 43124.04 34066.96\n",
       "Age>45  40675.96 32133.04"
      ]
     },
     "metadata": {},
     "output_type": "display_data"
    }
   ],
   "source": [
    "expected <- outer(row_totals, col_totals) / total\n",
    "expected"
   ]
  },
  {
   "cell_type": "markdown",
   "id": "008cb257",
   "metadata": {},
   "source": [
    "##### Applying Chi-square test:"
   ]
  },
  {
   "cell_type": "code",
   "execution_count": 49,
   "id": "4aaf7c67",
   "metadata": {},
   "outputs": [
    {
     "data": {
      "text/html": [
       "0.59214695343731"
      ],
      "text/latex": [
       "0.59214695343731"
      ],
      "text/markdown": [
       "0.59214695343731"
      ],
      "text/plain": [
       "[1] 0.592147"
      ]
     },
     "metadata": {},
     "output_type": "display_data"
    }
   ],
   "source": [
    "chi_stat <- sum((contingency - expected)^2 / expected)\n",
    "chi_stat"
   ]
  },
  {
   "cell_type": "markdown",
   "id": "2ddd5fd1",
   "metadata": {},
   "source": [
    "#### Method 2: Direct Method"
   ]
  },
  {
   "cell_type": "code",
   "execution_count": 50,
   "id": "253d5409",
   "metadata": {},
   "outputs": [
    {
     "data": {
      "text/plain": [
       "\n",
       "\tPearson's Chi-squared test with Yates' continuity correction\n",
       "\n",
       "data:  contingency\n",
       "X-squared = 0.58417, df = 1, p-value = 0.4447\n"
      ]
     },
     "metadata": {},
     "output_type": "display_data"
    }
   ],
   "source": [
    "chi <-  chisq.test(contingency)\n",
    "chi"
   ]
  },
  {
   "cell_type": "markdown",
   "id": "c16bd529",
   "metadata": {},
   "source": [
    "##### Calculating p_value:"
   ]
  },
  {
   "cell_type": "code",
   "execution_count": 51,
   "id": "322f1ef5",
   "metadata": {},
   "outputs": [
    {
     "data": {
      "text/html": [
       "0.441590103979592"
      ],
      "text/latex": [
       "0.441590103979592"
      ],
      "text/markdown": [
       "0.441590103979592"
      ],
      "text/plain": [
       "[1] 0.4415901"
      ]
     },
     "metadata": {},
     "output_type": "display_data"
    }
   ],
   "source": [
    "df_chi <- (nrow(contingency) - 1) * (ncol(contingency) - 1)\n",
    "p_value_chi <- 1 - pchisq(chi_stat, df_chi)\n",
    "p_value_chi"
   ]
  },
  {
   "cell_type": "markdown",
   "id": "8147d19e",
   "metadata": {},
   "source": [
    "### Level of Significance:\n",
    "\n",
    "Here we predetermine level of significance as 5% i.e. 0.05. "
   ]
  },
  {
   "cell_type": "markdown",
   "id": "99a9229a",
   "metadata": {},
   "source": [
    "### Degrees of Freedom:\n",
    "\n",
    "df = (r-1)(c-1)\n",
    " where,\n",
    "\n",
    "  r=Total number of rows.\n",
    "\n",
    "  c=Total number of coloumns.\n",
    "    "
   ]
  },
  {
   "cell_type": "code",
   "execution_count": 52,
   "id": "89bba4d1",
   "metadata": {},
   "outputs": [
    {
     "data": {
      "text/html": [
       "1"
      ],
      "text/latex": [
       "1"
      ],
      "text/markdown": [
       "1"
      ],
      "text/plain": [
       "[1] 1"
      ]
     },
     "metadata": {},
     "output_type": "display_data"
    }
   ],
   "source": [
    "df_chi <- (nrow(contingency) - 1) * (ncol(contingency) - 1)\n",
    "df_chi"
   ]
  },
  {
   "cell_type": "markdown",
   "id": "c15ba018",
   "metadata": {},
   "source": [
    "### Critical Value:\n",
    "\n",
    "Tabulated value of chi-square at 1 degrees of freedom at 5% level of significance is 3.84."
   ]
  },
  {
   "cell_type": "markdown",
   "id": "bd83012f",
   "metadata": {},
   "source": [
    "### Decision:"
   ]
  },
  {
   "cell_type": "markdown",
   "id": "c75e1ff2",
   "metadata": {},
   "source": [
    "#### Interpratation using chi_square value:"
   ]
  },
  {
   "cell_type": "code",
   "execution_count": 53,
   "id": "fa94b3c5",
   "metadata": {},
   "outputs": [
    {
     "name": "stdout",
     "output_type": "stream",
     "text": [
      "[1] \"Here we Accept Null Hypothesis as calculated t-value is less than the tabulated t-value i.e. there is no relation exist between the Age and Gender of a customer or we can say our data is insignificant\"\n"
     ]
    }
   ],
   "source": [
    "if (chi_stat > 3.84){\n",
    "    print(\"Here we Reject Null Hypothesis as calculated t-value is greater than the tabulated t-value i.e. there is some relation exist between the Age and Gender of a customer or we can say our data is significant\")\n",
    "} else{\n",
    "    print(\"Here we Accept Null Hypothesis as calculated t-value is less than the tabulated t-value i.e. there is no relation exist between the Age and Gender of a customer or we can say our data is insignificant\")\n",
    "}"
   ]
  },
  {
   "cell_type": "markdown",
   "id": "1f2690e0",
   "metadata": {},
   "source": [
    "##### Interpretation using p-value:"
   ]
  },
  {
   "cell_type": "code",
   "execution_count": 54,
   "id": "90c0ad1c",
   "metadata": {},
   "outputs": [
    {
     "name": "stdout",
     "output_type": "stream",
     "text": [
      "[1] \"Here we Accept Null Hypothesis as calculated t-value is less than the tabulated t-value i.e. there is no relation exist between the Age and Gender of a customer or we can say our data is insignificant\"\n"
     ]
    }
   ],
   "source": [
    "if (p_value_chi < 0.05){\n",
    "    print(\"Here we Reject Null Hypothesis as calculated t-value is greater than the tabulated t-value i.e. there is some relation exist between the Age and Gender of a customer or we can say our data is significant\")\n",
    "} else{\n",
    "    print(\"Here we Accept Null Hypothesis as calculated t-value is less than the tabulated t-value i.e. there is no relation exist between the Age and Gender of a customer or we can say our data is insignificant\")\n",
    "}"
   ]
  },
  {
   "cell_type": "markdown",
   "id": "b5afd41b",
   "metadata": {},
   "source": [
    "## Conclusion:"
   ]
  },
  {
   "cell_type": "code",
   "execution_count": 58,
   "id": "b60df74d",
   "metadata": {},
   "outputs": [
    {
     "name": "stdout",
     "output_type": "stream",
     "text": [
      "[1] \"From t-test it is cleary shown that the there is no relations exist between the mean income of male and female i.e. our data is insignificant\"\n",
      "[1] \"From F-test it is cleary shown that the there is no relations exist between the variance of income of male and female i.e. our data is insignificant\"\n",
      "[1] \"From chi-square test it is cleary shown that the there is no relations exist between the Age and Gender of a customer i.e. our data is insignificant\"\n"
     ]
    }
   ],
   "source": [
    "if(p_value_t < 0.05){\n",
    "    print(\"From t-test it is cleary shown that the there is some relations exist between the mean income of male and female i.e. our data is significant\")\n",
    "} else{\n",
    "        print(\"From t-test it is cleary shown that the there is no relations exist between the mean income of male and female i.e. our data is insignificant\")\n",
    "}\n",
    "\n",
    "if(p_value_F < 0.05){\n",
    "    print(\"From F-test it is cleary shown that the there is some relations exist between the variance of income of male and female i.e. our data is significant\")\n",
    "} else{\n",
    "        print(\"From F-test it is cleary shown that the there is no relations exist between the variance of income of male and female i.e. our data is insignificant\")\n",
    "}\n",
    "\n",
    "if(p_value_chi < 0.05){\n",
    "    print(\"From chi-square test it is cleary shown that the there is some relations exist between the Age and Gender of a customer i.e. our data is significant\")\n",
    "} else{\n",
    "        print(\"From chi-square test it is cleary shown that the there is no relations exist between the Age and Gender of a customer i.e. our data is insignificant\")\n",
    "}"
   ]
  },
  {
   "cell_type": "markdown",
   "id": "01e34646",
   "metadata": {},
   "source": [
    "## Overall Conclusion:\n",
    "\n",
    "Our data is significant."
   ]
  }
 ],
 "metadata": {
  "kernelspec": {
   "display_name": "R",
   "language": "R",
   "name": "ir"
  },
  "language_info": {
   "codemirror_mode": "r",
   "file_extension": ".r",
   "mimetype": "text/x-r-source",
   "name": "R",
   "pygments_lexer": "r",
   "version": "3.6.1"
  }
 },
 "nbformat": 4,
 "nbformat_minor": 5
}
