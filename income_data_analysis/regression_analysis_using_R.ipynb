{
 "cells": [
  {
   "cell_type": "markdown",
   "id": "3cee8389",
   "metadata": {},
   "source": [
    "## Loading Data:"
   ]
  },
  {
   "cell_type": "code",
   "execution_count": 1,
   "id": "9d2bb3f1",
   "metadata": {},
   "outputs": [],
   "source": [
    "df = read.csv(\"toy_dataset.csv\")"
   ]
  },
  {
   "cell_type": "markdown",
   "id": "b103d305",
   "metadata": {},
   "source": [
    "## Gist of dataset:"
   ]
  },
  {
   "cell_type": "code",
   "execution_count": 2,
   "id": "df8ab6fd",
   "metadata": {},
   "outputs": [
    {
     "data": {
      "text/html": [
       "<table>\n",
       "<thead><tr><th scope=col>Number</th><th scope=col>Gender</th><th scope=col>Age</th><th scope=col>Income</th></tr></thead>\n",
       "<tbody>\n",
       "\t<tr><td>1     </td><td>Male  </td><td>41    </td><td>40367 </td></tr>\n",
       "\t<tr><td>2     </td><td>Male  </td><td>54    </td><td>45084 </td></tr>\n",
       "\t<tr><td>3     </td><td>Male  </td><td>42    </td><td>52483 </td></tr>\n",
       "\t<tr><td>4     </td><td>Male  </td><td>40    </td><td>40941 </td></tr>\n",
       "\t<tr><td>5     </td><td>Male  </td><td>46    </td><td>50289 </td></tr>\n",
       "\t<tr><td>6     </td><td>Female</td><td>36    </td><td>50786 </td></tr>\n",
       "</tbody>\n",
       "</table>\n"
      ],
      "text/latex": [
       "\\begin{tabular}{r|llll}\n",
       " Number & Gender & Age & Income\\\\\n",
       "\\hline\n",
       "\t 1      & Male   & 41     & 40367 \\\\\n",
       "\t 2      & Male   & 54     & 45084 \\\\\n",
       "\t 3      & Male   & 42     & 52483 \\\\\n",
       "\t 4      & Male   & 40     & 40941 \\\\\n",
       "\t 5      & Male   & 46     & 50289 \\\\\n",
       "\t 6      & Female & 36     & 50786 \\\\\n",
       "\\end{tabular}\n"
      ],
      "text/markdown": [
       "\n",
       "| Number | Gender | Age | Income |\n",
       "|---|---|---|---|\n",
       "| 1      | Male   | 41     | 40367  |\n",
       "| 2      | Male   | 54     | 45084  |\n",
       "| 3      | Male   | 42     | 52483  |\n",
       "| 4      | Male   | 40     | 40941  |\n",
       "| 5      | Male   | 46     | 50289  |\n",
       "| 6      | Female | 36     | 50786  |\n",
       "\n"
      ],
      "text/plain": [
       "  Number Gender Age Income\n",
       "1 1      Male   41  40367 \n",
       "2 2      Male   54  45084 \n",
       "3 3      Male   42  52483 \n",
       "4 4      Male   40  40941 \n",
       "5 5      Male   46  50289 \n",
       "6 6      Female 36  50786 "
      ]
     },
     "metadata": {},
     "output_type": "display_data"
    }
   ],
   "source": [
    "head(df)"
   ]
  },
  {
   "cell_type": "markdown",
   "id": "ba6f4ade",
   "metadata": {},
   "source": [
    "## Summary:"
   ]
  },
  {
   "cell_type": "code",
   "execution_count": 3,
   "id": "9a0be384",
   "metadata": {},
   "outputs": [
    {
     "data": {
      "text/plain": [
       "     Number          Gender           Age            Income      \n",
       " Min.   :     1   Female:66200   Min.   :25.00   Min.   :  -654  \n",
       " 1st Qu.: 37501   Male  :83800   1st Qu.:35.00   1st Qu.: 80868  \n",
       " Median : 75001                  Median :45.00   Median : 93655  \n",
       " Mean   : 75001                  Mean   :44.95   Mean   : 91253  \n",
       " 3rd Qu.:112500                  3rd Qu.:55.00   3rd Qu.:104519  \n",
       " Max.   :150000                  Max.   :65.00   Max.   :177157  "
      ]
     },
     "metadata": {},
     "output_type": "display_data"
    },
    {
     "data": {
      "text/html": [
       "0"
      ],
      "text/latex": [
       "0"
      ],
      "text/markdown": [
       "0"
      ],
      "text/plain": [
       "[1] 0"
      ]
     },
     "metadata": {},
     "output_type": "display_data"
    },
    {
     "data": {
      "text/html": [
       "150000"
      ],
      "text/latex": [
       "150000"
      ],
      "text/markdown": [
       "150000"
      ],
      "text/plain": [
       "[1] 150000"
      ]
     },
     "metadata": {},
     "output_type": "display_data"
    },
    {
     "data": {
      "text/html": [
       "4"
      ],
      "text/latex": [
       "4"
      ],
      "text/markdown": [
       "4"
      ],
      "text/plain": [
       "[1] 4"
      ]
     },
     "metadata": {},
     "output_type": "display_data"
    }
   ],
   "source": [
    "summary(df)\n",
    "\n",
    "sum(is.na(df)) #Checking NULL Values\n",
    "nrow(df)   #Calculating total number of observations\n",
    "ncol(df)   #Calculating total number of attributes"
   ]
  },
  {
   "cell_type": "markdown",
   "id": "511b208e",
   "metadata": {},
   "source": [
    "## Regression Analysis:\n",
    "\n",
    "Here we are trying to predict Income(explained variable) of a customer using Age and Gender(explanatory variables). To predict the best fit line we will use Multiple Regression using Ordinary Least Square Method."
   ]
  },
  {
   "cell_type": "markdown",
   "id": "49f258c5",
   "metadata": {},
   "source": [
    "### Converting categorical values into dummy values (i.e. 0 and 1):"
   ]
  },
  {
   "cell_type": "code",
   "execution_count": 4,
   "id": "78e3211e",
   "metadata": {},
   "outputs": [
    {
     "data": {
      "text/html": [
       "<table>\n",
       "<thead><tr><th scope=col>Number</th><th scope=col>Age</th><th scope=col>Income</th><th scope=col>Dummy</th></tr></thead>\n",
       "<tbody>\n",
       "\t<tr><td>1    </td><td>41   </td><td>40367</td><td>1    </td></tr>\n",
       "\t<tr><td>2    </td><td>54   </td><td>45084</td><td>1    </td></tr>\n",
       "\t<tr><td>3    </td><td>42   </td><td>52483</td><td>1    </td></tr>\n",
       "\t<tr><td>4    </td><td>40   </td><td>40941</td><td>1    </td></tr>\n",
       "\t<tr><td>5    </td><td>46   </td><td>50289</td><td>1    </td></tr>\n",
       "\t<tr><td>6    </td><td>36   </td><td>50786</td><td>0    </td></tr>\n",
       "</tbody>\n",
       "</table>\n"
      ],
      "text/latex": [
       "\\begin{tabular}{r|llll}\n",
       " Number & Age & Income & Dummy\\\\\n",
       "\\hline\n",
       "\t 1     & 41    & 40367 & 1    \\\\\n",
       "\t 2     & 54    & 45084 & 1    \\\\\n",
       "\t 3     & 42    & 52483 & 1    \\\\\n",
       "\t 4     & 40    & 40941 & 1    \\\\\n",
       "\t 5     & 46    & 50289 & 1    \\\\\n",
       "\t 6     & 36    & 50786 & 0    \\\\\n",
       "\\end{tabular}\n"
      ],
      "text/markdown": [
       "\n",
       "| Number | Age | Income | Dummy |\n",
       "|---|---|---|---|\n",
       "| 1     | 41    | 40367 | 1     |\n",
       "| 2     | 54    | 45084 | 1     |\n",
       "| 3     | 42    | 52483 | 1     |\n",
       "| 4     | 40    | 40941 | 1     |\n",
       "| 5     | 46    | 50289 | 1     |\n",
       "| 6     | 36    | 50786 | 0     |\n",
       "\n"
      ],
      "text/plain": [
       "  Number Age Income Dummy\n",
       "1 1      41  40367  1    \n",
       "2 2      54  45084  1    \n",
       "3 3      42  52483  1    \n",
       "4 4      40  40941  1    \n",
       "5 5      46  50289  1    \n",
       "6 6      36  50786  0    "
      ]
     },
     "metadata": {},
     "output_type": "display_data"
    }
   ],
   "source": [
    "df$Dummy <- ifelse(df[[\"Gender\"]] == \"Male\", 1, 0)\n",
    "\n",
    "#Creating dummy data set:\n",
    "df_dummy <- df[-2]\n",
    "head(df_dummy)"
   ]
  },
  {
   "cell_type": "markdown",
   "id": "c1e819bf",
   "metadata": {},
   "source": [
    "### Applying Regression on a given data:"
   ]
  },
  {
   "cell_type": "code",
   "execution_count": 5,
   "id": "073e238b",
   "metadata": {},
   "outputs": [
    {
     "data": {
      "text/plain": [
       "\n",
       "Call:\n",
       "lm(formula = Income ~ Age + Dummy, data = df_dummy)\n",
       "\n",
       "Coefficients:\n",
       "(Intercept)          Age        Dummy  \n",
       "  85718.403       -1.277    10009.217  \n"
      ]
     },
     "metadata": {},
     "output_type": "display_data"
    },
    {
     "data": {
      "text/plain": [
       "\n",
       "Call:\n",
       "lm(formula = Income ~ Age + Dummy, data = df_dummy)\n",
       "\n",
       "Residuals:\n",
       "   Min     1Q Median     3Q    Max \n",
       "-86321  -9179   2565  12323  82762 \n",
       "\n",
       "Coefficients:\n",
       "             Estimate Std. Error t value Pr(>|t|)    \n",
       "(Intercept) 85718.403    263.659 325.111   <2e-16 ***\n",
       "Age            -1.277      5.464  -0.234    0.815    \n",
       "Dummy       10009.217    127.349  78.597   <2e-16 ***\n",
       "---\n",
       "Signif. codes:  0 '***' 0.001 '**' 0.01 '*' 0.05 '.' 0.1 ' ' 1\n",
       "\n",
       "Residual standard error: 24490 on 149997 degrees of freedom\n",
       "Multiple R-squared:  0.03956,\tAdjusted R-squared:  0.03954 \n",
       "F-statistic:  3089 on 2 and 149997 DF,  p-value: < 2.2e-16\n"
      ]
     },
     "metadata": {},
     "output_type": "display_data"
    }
   ],
   "source": [
    "model <- lm(Income~Age+Dummy, data = df_dummy)\n",
    "model\n",
    "summary(model)"
   ]
  },
  {
   "cell_type": "markdown",
   "id": "007cb4e9",
   "metadata": {},
   "source": [
    "### Designing Ancova Table:"
   ]
  },
  {
   "cell_type": "code",
   "execution_count": 6,
   "id": "d7f9d780",
   "metadata": {},
   "outputs": [
    {
     "data": {
      "text/plain": [
       "                                                Df    Sum Sq   Mean Sq  F value\n",
       "factor(df_dummy$Age)                            40 2.278e+10 5.695e+08    0.949\n",
       "factor(df_dummy$Dummy)                           1 3.703e+12 3.703e+12 6173.597\n",
       "factor(df_dummy$Age):factor(df_dummy$Dummy)     40 1.647e+10 4.117e+08    0.686\n",
       "Residuals                                   149918 8.993e+13 5.998e+08         \n",
       "                                            Pr(>F)    \n",
       "factor(df_dummy$Age)                         0.562    \n",
       "factor(df_dummy$Dummy)                      <2e-16 ***\n",
       "factor(df_dummy$Age):factor(df_dummy$Dummy)  0.934    \n",
       "Residuals                                             \n",
       "---\n",
       "Signif. codes:  0 '***' 0.001 '**' 0.01 '*' 0.05 '.' 0.1 ' ' 1"
      ]
     },
     "metadata": {},
     "output_type": "display_data"
    }
   ],
   "source": [
    "income_aov <- aov(df_dummy$Income~factor(df_dummy$Age) * factor(df_dummy$Dummy))\n",
    "summary(income_aov)"
   ]
  },
  {
   "cell_type": "markdown",
   "id": "7e68953d",
   "metadata": {},
   "source": [
    "### Finding residuals:"
   ]
  },
  {
   "cell_type": "code",
   "execution_count": 7,
   "id": "6f24b6df",
   "metadata": {},
   "outputs": [],
   "source": [
    "intercept <- coef(model)[1]\n",
    "slope_Age <- coef(model)[2]\n",
    "slope_Dummy <- coef(model)[3]\n",
    "\n",
    "# Calculate the predicted values\n",
    "predicted <- intercept + slope_Age * df_dummy$Age + slope_Dummy * df_dummy$Dummy\n",
    "\n",
    "# Calculate the residuals\n",
    "residuals <- c(df_dummy$Income - predicted)"
   ]
  },
  {
   "cell_type": "markdown",
   "id": "e77847b5",
   "metadata": {},
   "source": [
    "## Assumptions of Multiple Regression:\n",
    "\n",
    "1) The regression model is linear in parameters.\n",
    "\n",
    "2) Zero mean value of disturbance.\n",
    "\n",
    "3) Zero covariance between the independent term and disturbance term.\n",
    "\n",
    "4) Homoscedasticity is present i.e. variance of disturbance term is constant.\n",
    "\n",
    "5) No autocorrelation between the disturbance terms.\n",
    "\n",
    "6) No Multicollinearity between explanatory variables."
   ]
  },
  {
   "cell_type": "markdown",
   "id": "f7741f6f",
   "metadata": {},
   "source": [
    "### Assumption 1: \n",
    "\n",
    "Linearity in parameters."
   ]
  },
  {
   "cell_type": "markdown",
   "id": "8924da03",
   "metadata": {},
   "source": [
    "#### Coefficient of Age:"
   ]
  },
  {
   "cell_type": "code",
   "execution_count": 17,
   "id": "028adb2d",
   "metadata": {},
   "outputs": [
    {
     "data": {
      "image/png": "[encoded data removed]",
      "text/plain": [
       "Plot with title \"Scatterplot of Age and Income\""
      ]
     },
     "metadata": {},
     "output_type": "display_data"
    }
   ],
   "source": [
    "model1 <- lm(df_dummy$Income ~ df_dummy$Age)\n",
    "\n",
    "# Plot the observed data\n",
    "plot(df_dummy$Age, df_dummy$Income, xlab = \"Age\", ylab = \"Income\", main = \"Scatterplot of Age and Income\")\n",
    "\n",
    "# Add a trend line to the plot\n",
    "abline(model1, col = \"red\")"
   ]
  },
  {
   "cell_type": "code",
   "execution_count": 19,
   "id": "ca421c60",
   "metadata": {},
   "outputs": [
    {
     "data": {
      "image/png": "[encoded data removed]",
      "text/plain": [
       "Plot with title \"Residual Plot\""
      ]
     },
     "metadata": {},
     "output_type": "display_data"
    }
   ],
   "source": [
    "residuals1 <- residuals(model1)\n",
    "plot(df_dummy$Age, residuals1, xlab = \"Age\", ylab = \"Residuals\", main = \"Residual Plot\")\n",
    "\n",
    "abline(h = 0, col = \"blue\")"
   ]
  },
  {
   "cell_type": "markdown",
   "id": "9b75ea01",
   "metadata": {},
   "source": [
    "#### Conclusion:\n",
    "\n",
    "Here we conclude that the coefficient of Age is Linear in nature."
   ]
  },
  {
   "cell_type": "markdown",
   "id": "3552ea9f",
   "metadata": {},
   "source": [
    "#### Coefficients of Gender:"
   ]
  },
  {
   "cell_type": "code",
   "execution_count": 20,
   "id": "fe02b218",
   "metadata": {},
   "outputs": [
    {
     "data": {
      "image/png": "[encoded data removed]",
      "text/plain": [
       "Plot with title \"Scatterplot of Age and Income\""
      ]
     },
     "metadata": {},
     "output_type": "display_data"
    }
   ],
   "source": [
    "model2 <- lm(df_dummy$Income ~ df_dummy$Dummy)\n",
    "\n",
    "# Plot the observed data\n",
    "plot(df_dummy$Dummy, df_dummy$Income, xlab = \"Dummy\", ylab = \"Income\", main = \"Scatterplot of Age and Income\")\n",
    "\n",
    "# Add a trend line to the plot\n",
    "abline(model2, col = \"red\")"
   ]
  },
  {
   "cell_type": "code",
   "execution_count": 21,
   "id": "f83d0da2",
   "metadata": {},
   "outputs": [
    {
     "data": {
      "image/png": "[encoded data removed]",
      "text/plain": [
       "Plot with title \"Residual Plot\""
      ]
     },
     "metadata": {},
     "output_type": "display_data"
    }
   ],
   "source": [
    "residuals2 <- residuals(model2)\n",
    "plot(df_dummy$Dummy, residuals2, xlab = \"Dummy\", ylab = \"Residuals\", main = \"Residual Plot\")\n",
    "\n",
    "abline(h = 0, col = \"blue\")"
   ]
  },
  {
   "cell_type": "markdown",
   "id": "38b77404",
   "metadata": {},
   "source": [
    "#### Conclusion:\n",
    "\n",
    "Here we conclude that the coefficient of Gender is Linear in nature."
   ]
  },
  {
   "cell_type": "markdown",
   "id": "94e4253e",
   "metadata": {},
   "source": [
    "### Assumption 2:\n",
    "\n",
    "Zero mean value of disturbance."
   ]
  },
  {
   "cell_type": "code",
   "execution_count": 22,
   "id": "c511662f",
   "metadata": {},
   "outputs": [
    {
     "data": {
      "text/html": [
       "-5.67982561849867e-11"
      ],
      "text/latex": [
       "-5.67982561849867e-11"
      ],
      "text/markdown": [
       "-5.67982561849867e-11"
      ],
      "text/plain": [
       "[1] -5.679826e-11"
      ]
     },
     "metadata": {},
     "output_type": "display_data"
    }
   ],
   "source": [
    "mean_residuals <- mean(residuals)\n",
    "mean_residuals"
   ]
  },
  {
   "cell_type": "markdown",
   "id": "8fcaba1c",
   "metadata": {},
   "source": [
    "#### Conclusion:\n",
    "\n",
    "Here the mean value of residuals is near to zero so we conclude that our model has Zero mean value of disturbance."
   ]
  },
  {
   "cell_type": "markdown",
   "id": "bc82d5e4",
   "metadata": {},
   "source": [
    "### Assumption 3:\n",
    "\n",
    "Zero covariance between the explanatory and the stochastic term."
   ]
  },
  {
   "cell_type": "code",
   "execution_count": 23,
   "id": "a5f88457",
   "metadata": {},
   "outputs": [
    {
     "data": {
      "text/html": [
       "-6.42080848808082e-11"
      ],
      "text/latex": [
       "-6.42080848808082e-11"
      ],
      "text/markdown": [
       "-6.42080848808082e-11"
      ],
      "text/plain": [
       "[1] -6.420808e-11"
      ]
     },
     "metadata": {},
     "output_type": "display_data"
    }
   ],
   "source": [
    "cov <- cov(df_dummy$Age, residuals)\n",
    "cov"
   ]
  },
  {
   "cell_type": "markdown",
   "id": "bc87417c",
   "metadata": {},
   "source": [
    "#### Conclusion:\n",
    "\n"
   ]
  },
  {
   "cell_type": "markdown",
   "id": "835399be",
   "metadata": {},
   "source": [
    "### Assumption 4:\n",
    "\n",
    "Homoscedasticity is present."
   ]
  },
  {
   "cell_type": "markdown",
   "id": "70d7384b",
   "metadata": {},
   "source": [
    "#### Setting of Hypothesis:\n",
    "\n",
    "Null Hypothesis,\n",
    "                Ho:Data is Homoscedastic i.e. the variance of residuals is constant.\n",
    "\n",
    "\n",
    "Alternative Hypothesis,\n",
    "                H1:Data is Heteroscedastic i.e. the variance of residuals is not constant."
   ]
  },
  {
   "cell_type": "markdown",
   "id": "6385d724",
   "metadata": {},
   "source": [
    "#### Test Statistic:\n",
    "\n",
    "Here we use Spearman's Rank Correlation test to check homoscedasticity of the data."
   ]
  },
  {
   "cell_type": "code",
   "execution_count": 24,
   "id": "78ee5246",
   "metadata": {},
   "outputs": [
    {
     "name": "stderr",
     "output_type": "stream",
     "text": [
      "Warning message in cor.test.default(df_dummy$Age, residuals, method = \"spearman\"):\n",
      "\"Cannot compute exact p-value with ties\""
     ]
    },
    {
     "data": {
      "text/plain": [
       "\n",
       "\tSpearman's rank correlation rho\n",
       "\n",
       "data:  df_dummy$Age and residuals\n",
       "S = 5.6226e+14, p-value = 0.8704\n",
       "alternative hypothesis: true rho is not equal to 0\n",
       "sample estimates:\n",
       "         rho \n",
       "0.0004213143 \n"
      ]
     },
     "metadata": {},
     "output_type": "display_data"
    },
    {
     "data": {
      "image/png": "[encoded data removed]",
      "text/plain": [
       "Plot with title \"Age vs Residuals\""
      ]
     },
     "metadata": {},
     "output_type": "display_data"
    }
   ],
   "source": [
    "h_age <- cor.test(df_dummy$Age, residuals, method = \"spearman\")\n",
    "h_age\n",
    "\n",
    "plot(df_dummy$Age, residuals, xlab = \"Age\", ylab = \"Residuals\", main = \"Age vs Residuals\")"
   ]
  },
  {
   "cell_type": "code",
   "execution_count": 25,
   "id": "f1e89dab",
   "metadata": {},
   "outputs": [
    {
     "name": "stderr",
     "output_type": "stream",
     "text": [
      "Warning message in cor.test.default(df_dummy$Dummy, residuals, method = \"spearman\"):\n",
      "\"Cannot compute exact p-value with ties\""
     ]
    },
    {
     "data": {
      "text/plain": [
       "\n",
       "\tSpearman's rank correlation rho\n",
       "\n",
       "data:  df_dummy$Dummy and residuals\n",
       "S = 5.6241e+14, p-value = 0.9531\n",
       "alternative hypothesis: true rho is not equal to 0\n",
       "sample estimates:\n",
       "         rho \n",
       "0.0001517626 \n"
      ]
     },
     "metadata": {},
     "output_type": "display_data"
    },
    {
     "data": {
      "image/png": "[encoded data removed]",
      "text/plain": [
       "Plot with title \"Gender vs Residuals\""
      ]
     },
     "metadata": {},
     "output_type": "display_data"
    }
   ],
   "source": [
    "h_dummy <- cor.test(df_dummy$Dummy, residuals, method = \"spearman\")\n",
    "h_dummy\n",
    "\n",
    "plot(df_dummy$Dummy, residuals, xlab = \"Gender\", ylab = \"Residuals\", main = \"Gender vs Residuals\")"
   ]
  },
  {
   "cell_type": "markdown",
   "id": "61489b58",
   "metadata": {},
   "source": [
    "#### Decision:\n",
    "\n",
    "1) p-value of Age is greater than level of signifance i.e. 0.05, so we accept Null Hypothesis.\n",
    "\n",
    "2) p-value of Dummy is greater than level of signifance i.e. 0.05, so we accept Null Hypothesis."
   ]
  },
  {
   "cell_type": "markdown",
   "id": "d8b33afb",
   "metadata": {},
   "source": [
    "#### Conclusion:\n",
    "\n",
    "Hence our data is Homoscedastic in nature."
   ]
  },
  {
   "cell_type": "markdown",
   "id": "98fbbbd0",
   "metadata": {},
   "source": [
    "### Assumption 5:\n",
    "\n",
    "No Autocorrelation between the residuals."
   ]
  },
  {
   "cell_type": "markdown",
   "id": "8f5e0e3b",
   "metadata": {},
   "source": [
    "#### Test Statistic:\n",
    "\n",
    "Here we use Autocorrelation Function to check whether the Residuals are Autocorrelated or not."
   ]
  },
  {
   "cell_type": "code",
   "execution_count": 26,
   "id": "2a92ef5a",
   "metadata": {},
   "outputs": [
    {
     "data": {
      "image/png": "[encoded data removed]",
      "text/plain": [
       "Plot with title \"Autocorrelation Function (ACF)\""
      ]
     },
     "metadata": {},
     "output_type": "display_data"
    }
   ],
   "source": [
    "acf(residuals, main = \"Autocorrelation Function (ACF)\")"
   ]
  },
  {
   "cell_type": "markdown",
   "id": "11e2e307",
   "metadata": {},
   "source": [
    "#### Decision:\n",
    "\n",
    "As it is cleary shown from the graph that there is no relation exist between the Residuals i.e. No Autocorrelation is present in our data."
   ]
  },
  {
   "cell_type": "markdown",
   "id": "0442b161",
   "metadata": {},
   "source": [
    "### Assumption 6:\n",
    "\n",
    "No relation exist between the explanatory variables i.e. No Multicollinearity."
   ]
  },
  {
   "cell_type": "markdown",
   "id": "58b3f83a",
   "metadata": {},
   "source": [
    "#### Setting of Hypothesis:\n",
    "\n",
    "Null Hypothesis,\n",
    "                Ho:No Multicoolinearity i.e. the explanatory variables are orthogonal.\n",
    "\n",
    "\n",
    "Alternative Hypothesis,\n",
    "                H1:Multicollinearity is present i.e. the explanatory variables are not orthogonal."
   ]
  },
  {
   "cell_type": "markdown",
   "id": "3963e224",
   "metadata": {},
   "source": [
    "#### Test Statistic:"
   ]
  },
  {
   "cell_type": "code",
   "execution_count": 27,
   "id": "0d353fd8",
   "metadata": {},
   "outputs": [
    {
     "data": {
      "text/html": [
       "<table>\n",
       "<thead><tr><th></th><th scope=col>Age</th><th scope=col>Income</th><th scope=col>Dummy</th></tr></thead>\n",
       "<tbody>\n",
       "\t<tr><th scope=row>Age</th><td> 1.000000000</td><td>-0.001318114</td><td>-0.003653115</td></tr>\n",
       "\t<tr><th scope=row>Income</th><td>-0.001318114</td><td> 1.000000000</td><td> 0.198887924</td></tr>\n",
       "\t<tr><th scope=row>Dummy</th><td>-0.003653115</td><td> 0.198887924</td><td> 1.000000000</td></tr>\n",
       "</tbody>\n",
       "</table>\n"
      ],
      "text/latex": [
       "\\begin{tabular}{r|lll}\n",
       "  & Age & Income & Dummy\\\\\n",
       "\\hline\n",
       "\tAge &  1.000000000 & -0.001318114 & -0.003653115\\\\\n",
       "\tIncome & -0.001318114 &  1.000000000 &  0.198887924\\\\\n",
       "\tDummy & -0.003653115 &  0.198887924 &  1.000000000\\\\\n",
       "\\end{tabular}\n"
      ],
      "text/markdown": [
       "\n",
       "| <!--/--> | Age | Income | Dummy |\n",
       "|---|---|---|---|\n",
       "| Age |  1.000000000 | -0.001318114 | -0.003653115 |\n",
       "| Income | -0.001318114 |  1.000000000 |  0.198887924 |\n",
       "| Dummy | -0.003653115 |  0.198887924 |  1.000000000 |\n",
       "\n"
      ],
      "text/plain": [
       "       Age          Income       Dummy       \n",
       "Age     1.000000000 -0.001318114 -0.003653115\n",
       "Income -0.001318114  1.000000000  0.198887924\n",
       "Dummy  -0.003653115  0.198887924  1.000000000"
      ]
     },
     "metadata": {},
     "output_type": "display_data"
    },
    {
     "data": {
      "text/html": [
       "0.960430426194121"
      ],
      "text/latex": [
       "0.960430426194121"
      ],
      "text/markdown": [
       "0.960430426194121"
      ],
      "text/plain": [
       "[1] 0.9604304"
      ]
     },
     "metadata": {},
     "output_type": "display_data"
    }
   ],
   "source": [
    "data <- df_dummy[-1]\n",
    "\n",
    "cor_matrix <- cor(data)\n",
    "cor_matrix\n",
    "\n",
    "determinant <- det(cor_matrix)\n",
    "determinant"
   ]
  },
  {
   "cell_type": "markdown",
   "id": "9aeb77e6",
   "metadata": {},
   "source": [
    "#### Decision:\n",
    "\n",
    "Determinant = 0.960430426194121 i.e. near to 1 so we accept Null Hypothesis and conclude that there is No Multicollinearity or explanatory variables are orthogonal."
   ]
  },
  {
   "cell_type": "markdown",
   "id": "d388ad93",
   "metadata": {},
   "source": [
    "## Inference:"
   ]
  },
  {
   "cell_type": "code",
   "execution_count": 28,
   "id": "259b2f6b",
   "metadata": {},
   "outputs": [
    {
     "data": {
      "text/plain": [
       "\n",
       "Call:\n",
       "lm(formula = Income ~ Age + Dummy, data = df_dummy)\n",
       "\n",
       "Residuals:\n",
       "   Min     1Q Median     3Q    Max \n",
       "-86321  -9179   2565  12323  82762 \n",
       "\n",
       "Coefficients:\n",
       "             Estimate Std. Error t value Pr(>|t|)    \n",
       "(Intercept) 85718.403    263.659 325.111   <2e-16 ***\n",
       "Age            -1.277      5.464  -0.234    0.815    \n",
       "Dummy       10009.217    127.349  78.597   <2e-16 ***\n",
       "---\n",
       "Signif. codes:  0 '***' 0.001 '**' 0.01 '*' 0.05 '.' 0.1 ' ' 1\n",
       "\n",
       "Residual standard error: 24490 on 149997 degrees of freedom\n",
       "Multiple R-squared:  0.03956,\tAdjusted R-squared:  0.03954 \n",
       "F-statistic:  3089 on 2 and 149997 DF,  p-value: < 2.2e-16\n"
      ]
     },
     "metadata": {},
     "output_type": "display_data"
    }
   ],
   "source": [
    "summary(model)"
   ]
  },
  {
   "cell_type": "markdown",
   "id": "9e8690dc",
   "metadata": {},
   "source": [
    "## Interpretation:\n",
    "\n",
    "\n",
    "1) Mean Income = 85718.403\n",
    "\n",
    "2) Keeping Age constant, If Gender = Male: Income = 95727.62 else if Gender = Female: Income = 85718.403\n",
    "\n",
    "3) If an Age of a customer changes by 1 year then the change in Income will be equals to -1.277 i.e. If Age = 1 then Income = 85717.126\n",
    "\n",
    "4) In a above model the p-value of Intercept is less than 0.05, so we conclude that the Intercept term of a customer is significant i.e. there is some relation exist between the Income and a Intercept term. \n",
    "\n",
    "5) In a above model the p-value of Dummy is less than 0.05, so we conclude that the Gender term of a customer is significant i.e. there is some relation exist between the Income and a Gender of a customer. \n",
    "\n",
    "6) In a above model the p-value of Age is greater than 0.05, so we conclude that the Age of a customer is insignificant i.e. there is no relation exist between the Income and the Age of a customer.\n",
    "\n",
    "7) Overall the p-value of a model is less than 0.05, so we conclude that our model is significant.\n",
    "\n",
    "8) R_square = 0.03956 i.e. our model is 3.956% explained.\n",
    "\n",
    "9) Here we pre determined 5% level of significance which means there are 5% chances that our predicted model is wrong."
   ]
  },
  {
   "cell_type": "markdown",
   "id": "3a637f5b",
   "metadata": {},
   "source": [
    "## Conclusion:\n",
    "\n",
    "The model can be interpretated significant as it's overall p-value is less than the level of significance. But we can not use this model for prediction because Age and Gender explains it only 3.956%. \n",
    "\n",
    "We can improve model by adding more explanatory variables like years of experience, education, etc."
   ]
  }
 ],
 "metadata": {
  "kernelspec": {
   "display_name": "R",
   "language": "R",
   "name": "ir"
  },
  "language_info": {
   "codemirror_mode": "r",
   "file_extension": ".r",
   "mimetype": "text/x-r-source",
   "name": "R",
   "pygments_lexer": "r",
   "version": "3.6.1"
  }
 },
 "nbformat": 4,
 "nbformat_minor": 5
}
